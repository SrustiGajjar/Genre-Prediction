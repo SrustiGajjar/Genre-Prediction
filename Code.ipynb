{
 "cells": [
  {
   "cell_type": "markdown",
   "metadata": {},
   "source": [
    "# Problem Statement: "
   ]
  },
  {
   "cell_type": "markdown",
   "metadata": {},
   "source": [
    "Our objective is to develop a predictive model that can predict whether or not a movie is a <i>Drama</i>. In order to do so we need to use the textual features of the movie stories and creat your predictive models. There are totally three different files in this project.\n",
    "\n",
    "<ol>\n",
    "    <li><b>movie_story_student_file.csv</b>: This file contains the movie stories that should be used by students for model development.</li>\n",
    "    <li><b>movie_story_evaluation_file.csv</b>: This file should NOT be used for model development purposes. We should only use this file after developing their predictive models and selecting their best final model. Then need to use their best predictive model and predict whether or not the movies in <b>movie story evaluation file.csv</b> are Drama.</li>\n",
    "    <li><b>movies.csv</b>: This file contain the movie genres.</li>\n",
    "</ol>"
   ]
  },
  {
   "cell_type": "markdown",
   "metadata": {},
   "source": [
    "# Data Structuring "
   ]
  },
  {
   "cell_type": "code",
   "execution_count": 1,
   "metadata": {},
   "outputs": [],
   "source": [
    "#Importing required libraries\n",
    "import re\n",
    "%matplotlib inline\n",
    "import numpy as np\n",
    "import pandas as pd\n",
    "from os import path\n",
    "from PIL import Image\n",
    "from tqdm import tqdm\n",
    "import matplotlib as mpl\n",
    "from sklearn.svm import SVC\n",
    "import matplotlib.pyplot as plt\n",
    "from nltk.corpus import stopwords\n",
    "from xgboost import XGBClassifier\n",
    "from nltk.stem import PorterStemmer\n",
    "from nltk.tokenize import word_tokenize\n",
    "from nltk.stem import WordNetLemmatizer\n",
    "from sklearn.naive_bayes import MultinomialNB\n",
    "from sklearn.ensemble import RandomForestClassifier\n",
    "from sklearn.neighbors import KNeighborsClassifier\n",
    "from sklearn.model_selection import StratifiedKFold\n",
    "from wordcloud import WordCloud, ImageColorGenerator\n",
    "from sklearn.model_selection import train_test_split\n",
    "from yellowbrick.text.freqdist import FreqDistVisualizer\n",
    "from sklearn.feature_extraction.text import CountVectorizer \n",
    "from sklearn.feature_extraction.text import TfidfVectorizer\n",
    "from sklearn.decomposition import LatentDirichletAllocation\n",
    "from sklearn.feature_extraction.text import CountVectorizer\n",
    "from sklearn.linear_model import SGDClassifier, LogisticRegression\n",
    "from sklearn.model_selection import RandomizedSearchCV, GridSearchCV\n",
    "from sklearn.metrics import accuracy_score, precision_score, recall_score, classification_report, confusion_matrix\n",
    "import warnings\n",
    "warnings.filterwarnings(\"ignore\")"
   ]
  },
  {
   "cell_type": "code",
   "execution_count": 2,
   "metadata": {},
   "outputs": [
    {
     "data": {
      "text/html": [
       "<div>\n",
       "<style scoped>\n",
       "    .dataframe tbody tr th:only-of-type {\n",
       "        vertical-align: middle;\n",
       "    }\n",
       "\n",
       "    .dataframe tbody tr th {\n",
       "        vertical-align: top;\n",
       "    }\n",
       "\n",
       "    .dataframe thead th {\n",
       "        text-align: right;\n",
       "    }\n",
       "</style>\n",
       "<table border=\"1\" class=\"dataframe\">\n",
       "  <thead>\n",
       "    <tr style=\"text-align: right;\">\n",
       "      <th></th>\n",
       "      <th>movie_id</th>\n",
       "      <th>story</th>\n",
       "    </tr>\n",
       "  </thead>\n",
       "  <tbody>\n",
       "    <tr>\n",
       "      <th>0</th>\n",
       "      <td>131072</td>\n",
       "      <td>A girl who always tends to fall in love with t...</td>\n",
       "    </tr>\n",
       "    <tr>\n",
       "      <th>1</th>\n",
       "      <td>196609</td>\n",
       "      <td>Bigfoot has come to the town of Ellwood City, ...</td>\n",
       "    </tr>\n",
       "    <tr>\n",
       "      <th>2</th>\n",
       "      <td>131074</td>\n",
       "      <td>At an altitude of 18,000 feet, Alaska\\'s Mount...</td>\n",
       "    </tr>\n",
       "    <tr>\n",
       "      <th>3</th>\n",
       "      <td>196611</td>\n",
       "      <td>In her first special since 2003, Ellen revisit...</td>\n",
       "    </tr>\n",
       "    <tr>\n",
       "      <th>4</th>\n",
       "      <td>196613</td>\n",
       "      <td>Mike and Sulley are back at Monsters Universit...</td>\n",
       "    </tr>\n",
       "    <tr>\n",
       "      <th>...</th>\n",
       "      <td>...</td>\n",
       "      <td>...</td>\n",
       "    </tr>\n",
       "    <tr>\n",
       "      <th>19995</th>\n",
       "      <td>56801</td>\n",
       "      <td>The iconic creatures from two of the scariest ...</td>\n",
       "    </tr>\n",
       "    <tr>\n",
       "      <th>19996</th>\n",
       "      <td>122337</td>\n",
       "      <td>When a bored-with-life English teacher meets a...</td>\n",
       "    </tr>\n",
       "    <tr>\n",
       "      <th>19997</th>\n",
       "      <td>187875</td>\n",
       "      <td>Herbert Blount is a crowdfunding contributor f...</td>\n",
       "    </tr>\n",
       "    <tr>\n",
       "      <th>19998</th>\n",
       "      <td>187873</td>\n",
       "      <td>REAL BOY is the coming-of-age story of Bennett...</td>\n",
       "    </tr>\n",
       "    <tr>\n",
       "      <th>19999</th>\n",
       "      <td>56805</td>\n",
       "      <td>Following a childhood tragedy, Dewey Cox follo...</td>\n",
       "    </tr>\n",
       "  </tbody>\n",
       "</table>\n",
       "<p>20000 rows × 2 columns</p>\n",
       "</div>"
      ],
      "text/plain": [
       "       movie_id                                              story\n",
       "0        131072  A girl who always tends to fall in love with t...\n",
       "1        196609  Bigfoot has come to the town of Ellwood City, ...\n",
       "2        131074  At an altitude of 18,000 feet, Alaska\\'s Mount...\n",
       "3        196611  In her first special since 2003, Ellen revisit...\n",
       "4        196613  Mike and Sulley are back at Monsters Universit...\n",
       "...         ...                                                ...\n",
       "19995     56801  The iconic creatures from two of the scariest ...\n",
       "19996    122337  When a bored-with-life English teacher meets a...\n",
       "19997    187875  Herbert Blount is a crowdfunding contributor f...\n",
       "19998    187873  REAL BOY is the coming-of-age story of Bennett...\n",
       "19999     56805  Following a childhood tragedy, Dewey Cox follo...\n",
       "\n",
       "[20000 rows x 2 columns]"
      ]
     },
     "execution_count": 2,
     "metadata": {},
     "output_type": "execute_result"
    }
   ],
   "source": [
    "#reading in data which has movieID, story(review)\n",
    "\n",
    "movies = pd.read_csv(\"movie_story_student_file.csv\", encoding='ISO-8859-1')\n",
    "movies"
   ]
  },
  {
   "cell_type": "code",
   "execution_count": 3,
   "metadata": {},
   "outputs": [
    {
     "data": {
      "text/html": [
       "<div>\n",
       "<style scoped>\n",
       "    .dataframe tbody tr th:only-of-type {\n",
       "        vertical-align: middle;\n",
       "    }\n",
       "\n",
       "    .dataframe tbody tr th {\n",
       "        vertical-align: top;\n",
       "    }\n",
       "\n",
       "    .dataframe thead th {\n",
       "        text-align: right;\n",
       "    }\n",
       "</style>\n",
       "<table border=\"1\" class=\"dataframe\">\n",
       "  <thead>\n",
       "    <tr style=\"text-align: right;\">\n",
       "      <th></th>\n",
       "      <th>movieId</th>\n",
       "      <th>title</th>\n",
       "      <th>genres</th>\n",
       "    </tr>\n",
       "  </thead>\n",
       "  <tbody>\n",
       "    <tr>\n",
       "      <th>0</th>\n",
       "      <td>27509</td>\n",
       "      <td>Carolina (2005)</td>\n",
       "      <td>Comedy|Romance</td>\n",
       "    </tr>\n",
       "    <tr>\n",
       "      <th>1</th>\n",
       "      <td>27618</td>\n",
       "      <td>Sound of Thunder, A (2005)</td>\n",
       "      <td>Action|Adventure|Drama|Sci-Fi|Thriller</td>\n",
       "    </tr>\n",
       "    <tr>\n",
       "      <th>2</th>\n",
       "      <td>27788</td>\n",
       "      <td>Jacket, The (2005)</td>\n",
       "      <td>Drama|Mystery|Sci-Fi|Thriller</td>\n",
       "    </tr>\n",
       "    <tr>\n",
       "      <th>3</th>\n",
       "      <td>27821</td>\n",
       "      <td>Interpreter, The (2005)</td>\n",
       "      <td>Drama|Thriller</td>\n",
       "    </tr>\n",
       "    <tr>\n",
       "      <th>4</th>\n",
       "      <td>27839</td>\n",
       "      <td>Ring Two, The (2005)</td>\n",
       "      <td>Drama|Horror|Mystery|Thriller</td>\n",
       "    </tr>\n",
       "    <tr>\n",
       "      <th>...</th>\n",
       "      <td>...</td>\n",
       "      <td>...</td>\n",
       "      <td>...</td>\n",
       "    </tr>\n",
       "    <tr>\n",
       "      <th>23493</th>\n",
       "      <td>209051</td>\n",
       "      <td>Jeff Garlin: Our Man in Chicago (2019)</td>\n",
       "      <td>(no genres listed)</td>\n",
       "    </tr>\n",
       "    <tr>\n",
       "      <th>23494</th>\n",
       "      <td>209085</td>\n",
       "      <td>The Mistletoe Secret (2019)</td>\n",
       "      <td>Romance</td>\n",
       "    </tr>\n",
       "    <tr>\n",
       "      <th>23495</th>\n",
       "      <td>209133</td>\n",
       "      <td>The Riot and the Dance (2018)</td>\n",
       "      <td>(no genres listed)</td>\n",
       "    </tr>\n",
       "    <tr>\n",
       "      <th>23496</th>\n",
       "      <td>209157</td>\n",
       "      <td>We (2018)</td>\n",
       "      <td>Drama</td>\n",
       "    </tr>\n",
       "    <tr>\n",
       "      <th>23497</th>\n",
       "      <td>209163</td>\n",
       "      <td>Bad Poems (2018)</td>\n",
       "      <td>Comedy|Drama</td>\n",
       "    </tr>\n",
       "  </tbody>\n",
       "</table>\n",
       "<p>23498 rows × 3 columns</p>\n",
       "</div>"
      ],
      "text/plain": [
       "       movieId                                   title  \\\n",
       "0        27509                         Carolina (2005)   \n",
       "1        27618              Sound of Thunder, A (2005)   \n",
       "2        27788                      Jacket, The (2005)   \n",
       "3        27821                 Interpreter, The (2005)   \n",
       "4        27839                    Ring Two, The (2005)   \n",
       "...        ...                                     ...   \n",
       "23493   209051  Jeff Garlin: Our Man in Chicago (2019)   \n",
       "23494   209085             The Mistletoe Secret (2019)   \n",
       "23495   209133           The Riot and the Dance (2018)   \n",
       "23496   209157                               We (2018)   \n",
       "23497   209163                        Bad Poems (2018)   \n",
       "\n",
       "                                       genres  \n",
       "0                              Comedy|Romance  \n",
       "1      Action|Adventure|Drama|Sci-Fi|Thriller  \n",
       "2               Drama|Mystery|Sci-Fi|Thriller  \n",
       "3                              Drama|Thriller  \n",
       "4               Drama|Horror|Mystery|Thriller  \n",
       "...                                       ...  \n",
       "23493                      (no genres listed)  \n",
       "23494                                 Romance  \n",
       "23495                      (no genres listed)  \n",
       "23496                                   Drama  \n",
       "23497                            Comedy|Drama  \n",
       "\n",
       "[23498 rows x 3 columns]"
      ]
     },
     "execution_count": 3,
     "metadata": {},
     "output_type": "execute_result"
    }
   ],
   "source": [
    "#reading in data which has movieID, Title, and accompanying genres\n",
    "genre = pd.read_csv(\"movies.csv\")\n",
    "genre"
   ]
  },
  {
   "cell_type": "code",
   "execution_count": 4,
   "metadata": {},
   "outputs": [
    {
     "data": {
      "text/html": [
       "<div>\n",
       "<style scoped>\n",
       "    .dataframe tbody tr th:only-of-type {\n",
       "        vertical-align: middle;\n",
       "    }\n",
       "\n",
       "    .dataframe tbody tr th {\n",
       "        vertical-align: top;\n",
       "    }\n",
       "\n",
       "    .dataframe thead th {\n",
       "        text-align: right;\n",
       "    }\n",
       "</style>\n",
       "<table border=\"1\" class=\"dataframe\">\n",
       "  <thead>\n",
       "    <tr style=\"text-align: right;\">\n",
       "      <th></th>\n",
       "      <th>story</th>\n",
       "      <th>DramaGenre</th>\n",
       "    </tr>\n",
       "  </thead>\n",
       "  <tbody>\n",
       "    <tr>\n",
       "      <th>0</th>\n",
       "      <td>A girl who always tends to fall in love with t...</td>\n",
       "      <td>Comedy</td>\n",
       "    </tr>\n",
       "    <tr>\n",
       "      <th>1</th>\n",
       "      <td>Bigfoot has come to the town of Ellwood City, ...</td>\n",
       "      <td>Comedy|Horror</td>\n",
       "    </tr>\n",
       "    <tr>\n",
       "      <th>2</th>\n",
       "      <td>At an altitude of 18,000 feet, Alaska\\'s Mount...</td>\n",
       "      <td>Documentary</td>\n",
       "    </tr>\n",
       "    <tr>\n",
       "      <th>3</th>\n",
       "      <td>In her first special since 2003, Ellen revisit...</td>\n",
       "      <td>Comedy</td>\n",
       "    </tr>\n",
       "    <tr>\n",
       "      <th>4</th>\n",
       "      <td>Mike and Sulley are back at Monsters Universit...</td>\n",
       "      <td>Animation|Children|Comedy|Fantasy</td>\n",
       "    </tr>\n",
       "  </tbody>\n",
       "</table>\n",
       "</div>"
      ],
      "text/plain": [
       "                                               story  \\\n",
       "0  A girl who always tends to fall in love with t...   \n",
       "1  Bigfoot has come to the town of Ellwood City, ...   \n",
       "2  At an altitude of 18,000 feet, Alaska\\'s Mount...   \n",
       "3  In her first special since 2003, Ellen revisit...   \n",
       "4  Mike and Sulley are back at Monsters Universit...   \n",
       "\n",
       "                          DramaGenre  \n",
       "0                             Comedy  \n",
       "1                      Comedy|Horror  \n",
       "2                        Documentary  \n",
       "3                             Comedy  \n",
       "4  Animation|Children|Comedy|Fantasy  "
      ]
     },
     "execution_count": 4,
     "metadata": {},
     "output_type": "execute_result"
    }
   ],
   "source": [
    "#merging training files into 'main_dataset' variable\n",
    "#removed movieid & title\n",
    "main_dataset = pd.merge(movies,genre,left_on=\"movie_id\", right_on = \"movieId\").drop(columns=['movieId', 'title', 'movie_id'])\n",
    "main_dataset = main_dataset.rename(columns={\"genres\":\"DramaGenre\"})   \n",
    "main_dataset.head()"
   ]
  },
  {
   "cell_type": "code",
   "execution_count": 5,
   "metadata": {},
   "outputs": [
    {
     "data": {
      "text/html": [
       "<div>\n",
       "<style scoped>\n",
       "    .dataframe tbody tr th:only-of-type {\n",
       "        vertical-align: middle;\n",
       "    }\n",
       "\n",
       "    .dataframe tbody tr th {\n",
       "        vertical-align: top;\n",
       "    }\n",
       "\n",
       "    .dataframe thead th {\n",
       "        text-align: right;\n",
       "    }\n",
       "</style>\n",
       "<table border=\"1\" class=\"dataframe\">\n",
       "  <thead>\n",
       "    <tr style=\"text-align: right;\">\n",
       "      <th></th>\n",
       "      <th>story</th>\n",
       "      <th>DramaGenre</th>\n",
       "    </tr>\n",
       "  </thead>\n",
       "  <tbody>\n",
       "    <tr>\n",
       "      <th>0</th>\n",
       "      <td>A girl who always tends to fall in love with t...</td>\n",
       "      <td>0</td>\n",
       "    </tr>\n",
       "    <tr>\n",
       "      <th>1</th>\n",
       "      <td>Bigfoot has come to the town of Ellwood City, ...</td>\n",
       "      <td>0</td>\n",
       "    </tr>\n",
       "    <tr>\n",
       "      <th>2</th>\n",
       "      <td>At an altitude of 18,000 feet, Alaska\\'s Mount...</td>\n",
       "      <td>0</td>\n",
       "    </tr>\n",
       "    <tr>\n",
       "      <th>3</th>\n",
       "      <td>In her first special since 2003, Ellen revisit...</td>\n",
       "      <td>0</td>\n",
       "    </tr>\n",
       "    <tr>\n",
       "      <th>4</th>\n",
       "      <td>Mike and Sulley are back at Monsters Universit...</td>\n",
       "      <td>0</td>\n",
       "    </tr>\n",
       "    <tr>\n",
       "      <th>5</th>\n",
       "      <td>When Lady Tremaine steals the Fairy Godmother\\...</td>\n",
       "      <td>0</td>\n",
       "    </tr>\n",
       "    <tr>\n",
       "      <th>6</th>\n",
       "      <td>Film that mixes live action and animation, fro...</td>\n",
       "      <td>0</td>\n",
       "    </tr>\n",
       "    <tr>\n",
       "      <th>7</th>\n",
       "      <td>When a beautiful ballerina dancer, Adriana Men...</td>\n",
       "      <td>0</td>\n",
       "    </tr>\n",
       "    <tr>\n",
       "      <th>8</th>\n",
       "      <td>Jonas is 18-years-old and has had to repeat se...</td>\n",
       "      <td>0</td>\n",
       "    </tr>\n",
       "    <tr>\n",
       "      <th>9</th>\n",
       "      <td>When ex-soldier turned mercenary, John Gold, l...</td>\n",
       "      <td>0</td>\n",
       "    </tr>\n",
       "    <tr>\n",
       "      <th>10</th>\n",
       "      <td>The Recruiter takes viewers to the Louisiana c...</td>\n",
       "      <td>0</td>\n",
       "    </tr>\n",
       "    <tr>\n",
       "      <th>11</th>\n",
       "      <td>The tense marriage between two painters is sha...</td>\n",
       "      <td>1</td>\n",
       "    </tr>\n",
       "    <tr>\n",
       "      <th>12</th>\n",
       "      <td>A lowly stable elf finds that he is the only o...</td>\n",
       "      <td>0</td>\n",
       "    </tr>\n",
       "    <tr>\n",
       "      <th>13</th>\n",
       "      <td>David Sieveking left home years ago to make fi...</td>\n",
       "      <td>0</td>\n",
       "    </tr>\n",
       "    <tr>\n",
       "      <th>14</th>\n",
       "      <td>Three estranged sisters deal with the death of...</td>\n",
       "      <td>1</td>\n",
       "    </tr>\n",
       "  </tbody>\n",
       "</table>\n",
       "</div>"
      ],
      "text/plain": [
       "                                                story DramaGenre\n",
       "0   A girl who always tends to fall in love with t...          0\n",
       "1   Bigfoot has come to the town of Ellwood City, ...          0\n",
       "2   At an altitude of 18,000 feet, Alaska\\'s Mount...          0\n",
       "3   In her first special since 2003, Ellen revisit...          0\n",
       "4   Mike and Sulley are back at Monsters Universit...          0\n",
       "5   When Lady Tremaine steals the Fairy Godmother\\...          0\n",
       "6   Film that mixes live action and animation, fro...          0\n",
       "7   When a beautiful ballerina dancer, Adriana Men...          0\n",
       "8   Jonas is 18-years-old and has had to repeat se...          0\n",
       "9   When ex-soldier turned mercenary, John Gold, l...          0\n",
       "10  The Recruiter takes viewers to the Louisiana c...          0\n",
       "11  The tense marriage between two painters is sha...          1\n",
       "12  A lowly stable elf finds that he is the only o...          0\n",
       "13  David Sieveking left home years ago to make fi...          0\n",
       "14  Three estranged sisters deal with the death of...          1"
      ]
     },
     "execution_count": 5,
     "metadata": {},
     "output_type": "execute_result"
    }
   ],
   "source": [
    "# Mapping genre column to that shows 1 if movie is a 'drama' and 0 if 'not a drama'\n",
    "\n",
    "main_dataset.DramaGenre[main_dataset.DramaGenre.str.contains(\"Drama\")] = 1\n",
    "main_dataset.DramaGenre[main_dataset.DramaGenre!=1]=0\n",
    "main_dataset.head(15)"
   ]
  },
  {
   "cell_type": "code",
   "execution_count": 7,
   "metadata": {},
   "outputs": [
    {
     "data": {
      "text/plain": [
       "0    11588\n",
       "1     8412\n",
       "Name: DramaGenre, dtype: int64"
      ]
     },
     "execution_count": 7,
     "metadata": {},
     "output_type": "execute_result"
    }
   ],
   "source": [
    "main_dataset['DramaGenre'].value_counts()"
   ]
  },
  {
   "cell_type": "code",
   "execution_count": 8,
   "metadata": {},
   "outputs": [
    {
     "data": {
      "image/png": "[encoded data removed]",
      "text/plain": [
       "<Figure size 432x432 with 1 Axes>"
      ]
     },
     "metadata": {},
     "output_type": "display_data"
    }
   ],
   "source": [
    "# Visualizing distribution of Genres \n",
    "\n",
    "main_dataset.groupby('DramaGenre').size().plot(kind='pie', labels=['Not Drama', 'Drama'], colors=['tomato', 'gold'], autopct='%1.1f%%',\n",
    "                                   figsize=(6,6), explode=[0,0.1], textprops={'fontsize': 15})\n",
    "\n",
    "\n",
    "plt.ylabel('')\n",
    "plt.title(\"Distribution for Genres\", fontsize=20)\n",
    "plt.show()"
   ]
  },
  {
   "cell_type": "code",
   "execution_count": null,
   "metadata": {},
   "outputs": [],
   "source": []
  },
  {
   "cell_type": "markdown",
   "metadata": {},
   "source": [
    "# Data Preprocessing"
   ]
  },
  {
   "cell_type": "code",
   "execution_count": 6,
   "metadata": {},
   "outputs": [
    {
     "name": "stderr",
     "output_type": "stream",
     "text": [
      "20000it [00:51, 391.45it/s]\n"
     ]
    }
   ],
   "source": [
    "#implementing stemming\n",
    "#removing stopwords\n",
    "\n",
    "stemmer = PorterStemmer()\n",
    "stop = stopwords.words('english') \n",
    "\n",
    "for item,text in tqdm(enumerate(main_dataset.story)): \n",
    "    \n",
    "    text = re.sub(r'\\\\x[0-9a-f]{2}', \"\", text) #removing the 'x-99' etc text\n",
    "    text = text.lower() #lowering text\n",
    "    text = text.replace(\"-\", \" \") #seperating words connected by hyphen\n",
    "    text = re.sub(r\"(@\\[A-Za-z0-9]+)|([^0-9A-Za-z \\t])|(\\w+:\\/\\/\\S+)|^rt|http.+?\", \"\", text) #removing special symbols\n",
    "    tokens = word_tokenize(text) #tokenizing text\n",
    "    tokens = [token for token in tokens if token not in stop] #removing stop words\n",
    "    tokens = [stemmer.stem(token) for token in tokens] #stemming each token\n",
    "    tokens = [token for token in tokens if token.isalpha() and len(token)>2] #removing all of the tokens that are not words and a length of less than two\n",
    "    main_dataset.story[item] =  \" \".join(word for word in tokens) #joined tokens\n",
    "   "
   ]
  },
  {
   "cell_type": "code",
   "execution_count": 7,
   "metadata": {},
   "outputs": [],
   "source": [
    "#splitting dataset\n",
    "\n",
    "y = main_dataset.DramaGenre.astype('int') #defining our target variable\n",
    "\n",
    "cv = StratifiedKFold(n_splits=3, random_state=0, shuffle=True)\n",
    "X_train, X_test, y_train, y_test = train_test_split(main_dataset.story, y, \n",
    "                                                    test_size=0.2, random_state=0, stratify=y)"
   ]
  },
  {
   "cell_type": "markdown",
   "metadata": {},
   "source": [
    "### Baseline Model: Dummy Classifier"
   ]
  },
  {
   "cell_type": "code",
   "execution_count": 19,
   "metadata": {},
   "outputs": [
    {
     "name": "stdout",
     "output_type": "stream",
     "text": [
      "Baseline Dummy Classifier Accuracy Score 0.51875\n"
     ]
    }
   ],
   "source": [
    "from sklearn.dummy import DummyClassifier\n",
    "dummy_clf = DummyClassifier(strategy='stratified')\n",
    "dummy_clf.fit(X_train,y_train)\n",
    "print('Baseline Dummy Classifier Accuracy Score',dummy_clf.score(X_test,y_test))"
   ]
  },
  {
   "cell_type": "markdown",
   "metadata": {},
   "source": [
    "### Method 1: Bag of Words"
   ]
  },
  {
   "cell_type": "code",
   "execution_count": 29,
   "metadata": {},
   "outputs": [],
   "source": [
    "#implement countvectorizer\n",
    "\n",
    "vect_BOW = CountVectorizer(ngram_range=(1,2))\n",
    "X_train_BoW = vect_BOW.fit_transform(X_train)\n",
    "X_test_BoW = vect_BOW.transform(X_test)\n",
    "X_BoW = vect_BOW.transform(main_dataset.story)"
   ]
  },
  {
   "cell_type": "code",
   "execution_count": 30,
   "metadata": {},
   "outputs": [
    {
     "name": "stdout",
     "output_type": "stream",
     "text": [
      "(16000, 385238) (4000, 385238)\n"
     ]
    }
   ],
   "source": [
    "print(X_train_BoW.shape, X_test_BoW.shape)"
   ]
  },
  {
   "cell_type": "markdown",
   "metadata": {},
   "source": [
    "### Method 2: TF-IDF"
   ]
  },
  {
   "cell_type": "code",
   "execution_count": 31,
   "metadata": {},
   "outputs": [],
   "source": [
    "# implementing TF-IDF\n",
    "\n",
    "vect_TFIDF = TfidfVectorizer(ngram_range=(1,2))\n",
    "X_train_TFIDF = vect_TFIDF.fit_transform(X_train)\n",
    "X_test_TFIDF = vect_TFIDF.transform(X_test)"
   ]
  },
  {
   "cell_type": "code",
   "execution_count": 32,
   "metadata": {},
   "outputs": [
    {
     "name": "stdout",
     "output_type": "stream",
     "text": [
      "(16000, 385238) (4000, 385238)\n"
     ]
    }
   ],
   "source": [
    "print(X_train_TFIDF.shape, X_test_TFIDF.shape)"
   ]
  },
  {
   "cell_type": "markdown",
   "metadata": {},
   "source": [
    "### Method 3: Topic Modelling"
   ]
  },
  {
   "cell_type": "code",
   "execution_count": 33,
   "metadata": {},
   "outputs": [],
   "source": [
    "lda = LatentDirichletAllocation(n_components=25, learning_method=\"batch\",\n",
    "                                max_iter=25, random_state=0)\n",
    "X_train_Lda = lda.fit_transform(X_train_BoW)\n",
    "X_test_Lda = lda.transform(X_test_BoW)"
   ]
  },
  {
   "cell_type": "code",
   "execution_count": 34,
   "metadata": {},
   "outputs": [
    {
     "name": "stdout",
     "output_type": "stream",
     "text": [
      "(16000, 25) (4000, 25)\n"
     ]
    }
   ],
   "source": [
    "print(X_train_Lda.shape, X_test_Lda.shape)"
   ]
  },
  {
   "cell_type": "markdown",
   "metadata": {},
   "source": [
    "### Method 4: Word Embedding"
   ]
  },
  {
   "cell_type": "code",
   "execution_count": 26,
   "metadata": {},
   "outputs": [
    {
     "name": "stderr",
     "output_type": "stream",
     "text": [
      "400000it [00:10, 39196.36it/s]\n"
     ]
    }
   ],
   "source": [
    "embeddings_index = dict()\n",
    "f = open('glove.6B.50d.txt', encoding=\"utf8\")\n",
    "for line in tqdm(f):\n",
    "    values = line.split()\n",
    "    word = values[0]\n",
    "    coefs = np.asarray(values[1:], dtype='float32')\n",
    "    embeddings_index[word] = coefs\n",
    "f.close()"
   ]
  },
  {
   "cell_type": "code",
   "execution_count": 27,
   "metadata": {},
   "outputs": [
    {
     "name": "stderr",
     "output_type": "stream",
     "text": [
      "100%|████████████████████████████████████████████████████████████████████████████| 16000/16000 [02:44<00:00, 97.35it/s]\n"
     ]
    },
    {
     "data": {
      "text/plain": [
       "(16000, 50)"
      ]
     },
     "execution_count": 27,
     "metadata": {},
     "output_type": "execute_result"
    }
   ],
   "source": [
    "embeddings = []\n",
    "for review in tqdm(X_train):\n",
    "    base_embedding = np.zeros((50,))\n",
    "    word_count = 0\n",
    "    for token in word_tokenize(review):\n",
    "        token = token.lower()\n",
    "        if token in stopwords.words('english'):\n",
    "            continue\n",
    "        try:\n",
    "            base_embedding += embeddings_index[token]\n",
    "            word_count +=1\n",
    "        except:\n",
    "            continue\n",
    "    base_embedding = base_embedding/word_count\n",
    "    embeddings.append(base_embedding)\n",
    "    \n",
    "X_train_WE = np.array(embeddings)\n",
    "X_train_WE[np.isnan(X_train_WE)] = 0\n",
    "X_train_WE.shape"
   ]
  },
  {
   "cell_type": "code",
   "execution_count": 28,
   "metadata": {},
   "outputs": [
    {
     "name": "stderr",
     "output_type": "stream",
     "text": [
      "100%|██████████████████████████████████████████████████████████████████████████████| 4000/4000 [00:40<00:00, 99.79it/s]\n"
     ]
    },
    {
     "data": {
      "text/plain": [
       "(4000, 50)"
      ]
     },
     "execution_count": 28,
     "metadata": {},
     "output_type": "execute_result"
    }
   ],
   "source": [
    "embeddings = []\n",
    "for review in tqdm(X_test):\n",
    "    base_embedding = np.zeros((50,))\n",
    "    word_count = 0\n",
    "    for token in word_tokenize(review):\n",
    "        token = token.lower()\n",
    "        if token in stopwords.words('english'):\n",
    "            continue\n",
    "        try:\n",
    "            base_embedding += embeddings_index[token]\n",
    "            word_count +=1\n",
    "        except:\n",
    "            continue\n",
    "    base_embedding = base_embedding/word_count\n",
    "    embeddings.append(base_embedding)\n",
    "    \n",
    "X_test_WE = np.array(embeddings)\n",
    "X_test_WE[np.isnan(X_test_WE)] = 0\n",
    "X_test_WE.shape"
   ]
  },
  {
   "cell_type": "markdown",
   "metadata": {},
   "source": [
    "# Visualizations"
   ]
  },
  {
   "cell_type": "markdown",
   "metadata": {},
   "source": [
    "#### Term Frequency Visualization"
   ]
  },
  {
   "cell_type": "code",
   "execution_count": 47,
   "metadata": {},
   "outputs": [
    {
     "data": {
      "image/png": "[encoded data removed]",
      "text/plain": [
       "<Figure size 864x864 with 1 Axes>"
      ]
     },
     "metadata": {},
     "output_type": "display_data"
    },
    {
     "data": {
      "text/plain": [
       "<AxesSubplot:title={'center':'Frequency Distribution of Top 30 tokens'}>"
      ]
     },
     "execution_count": 47,
     "metadata": {},
     "output_type": "execute_result"
    }
   ],
   "source": [
    "# Find the Document Term Frequency Matrix \n",
    "vect = CountVectorizer(stop_words='english')\n",
    "X = vect.fit_transform(main_dataset.story)\n",
    "\n",
    "# Get all features (tokens)\n",
    "features = vect.get_feature_names_out()\n",
    "\n",
    "# Use yellowbrick package for visualization of top 30 tokens\n",
    "fig, ax = plt.subplots(figsize=(12,12))\n",
    "visualizer = FreqDistVisualizer(features=features, n=30)\n",
    "visualizer.fit(X)\n",
    "visualizer.poof()"
   ]
  },
  {
   "cell_type": "code",
   "execution_count": 48,
   "metadata": {},
   "outputs": [],
   "source": [
    "lda = LatentDirichletAllocation(n_components=5, learning_method=\"batch\",\n",
    "                                max_iter=25, random_state=0) \n",
    "document_topics = lda.fit_transform(X)"
   ]
  },
  {
   "cell_type": "code",
   "execution_count": 49,
   "metadata": {},
   "outputs": [
    {
     "data": {
      "text/plain": [
       "<bound method CountVectorizer.get_feature_names_out of CountVectorizer(stop_words='english')>"
      ]
     },
     "execution_count": 49,
     "metadata": {},
     "output_type": "execute_result"
    }
   ],
   "source": [
    "vect.get_feature_names_out"
   ]
  },
  {
   "cell_type": "code",
   "execution_count": 50,
   "metadata": {},
   "outputs": [
    {
     "data": {
      "text/plain": [
       "{0: ['film',\n",
       "  'stori',\n",
       "  'documentari',\n",
       "  'life',\n",
       "  'music',\n",
       "  'world',\n",
       "  'featur',\n",
       "  'new'],\n",
       " 1: ['friend', 'game', 'new', 'time', 'set', 'come', 'becom', 'island'],\n",
       " 2: ['murder', 'young', 'school', 'polic', 'kill', 'man', 'mysteri', 'becom'],\n",
       " 3: ['life', 'love', 'year', 'live', 'famili', 'young', 'old', 'friend'],\n",
       " 4: ['world', 'war', 'human', 'stori', 'team', 'power', 'group', 'forc']}"
      ]
     },
     "execution_count": 50,
     "metadata": {},
     "output_type": "execute_result"
    }
   ],
   "source": [
    "# Set n to your desired number of tokens \n",
    "n = 8\n",
    "# Get features (tokens) from CountVectorizer\n",
    "feature_names = np.array(vect.get_feature_names_out())\n",
    "# Find top n tokens\n",
    "topics = dict()\n",
    "for idx, component in enumerate(lda.components_): \n",
    "    top_n_indices = component.argsort()[:-(n + 1): -1] \n",
    "    topic_tokens = [feature_names[i] for i in top_n_indices] \n",
    "    topics[idx] = topic_tokens\n",
    "\n",
    "topics"
   ]
  },
  {
   "cell_type": "code",
   "execution_count": 51,
   "metadata": {},
   "outputs": [
    {
     "name": "stdout",
     "output_type": "stream",
     "text": [
      "komedi rodich dtech chce navzat nejlep tradic esk filmov komedi vtipn dialog vjimen hereck vkoni humor spojujc divki nap generacemi pbh filmu vychz zdnliv banln situac syn david novotn jde prochzku svm otcem josef somr syn zral tyictnk ije spokojen svou ptelkyn otci sedmdest bval vdec biolog klasick intelektul dobrm slova smyslu zdnliv jedin tyto dva mue spojuj jdou jednou msc spolen projt prahou nicmn jsou svzni poutem tyiceti let spolenho ivota brilantn vedenm dialogu ped nmi odkrvaj djini dvactho stolet vechni absurd spojen odhaluj nejhlub msta lidskch vztah odtajuj star resti trpen radosti scn objev vnuk kterm syn neml dvacet let ani tuen nkter chybi opakuj znovu znovu \n",
      "------------\n",
      "\n",
      "tyi zbrusu nov pohdki pro chytr dti chytr dospl oblben knihi jana wericha klasik animovanho filmu betislav pojar natoil slavn pbh malikho paleka pln zvrat dobrodrustv jeho cest svta zase dom pod vedenm aurela klimta oij navzjem podobn hrbat brati hrbi damaku pinej atmosfru exotickho blzkho vchodu pestrost orientlnho vypravstvm ale pitom vcech vech dobe znmch vlasta pospilov tech sestrch prstenu vyprv vesnick dekameronsk nvod tom jak pro szku prstnek zblbnout milujc chot jan balej dovol bratrm markovi koubovi prot prastar pohdkov pbh kouzelnm mlnku zvisti ertech originlnm vysvtlenm jednoho prodnho kazu pohdc moe strku pro slan \n",
      "------------\n",
      "\n",
      "dziejc wspczeni jasminum aciska nazwa jaminu opowiada histori tajemnicz magiczn pen zmysowych zapachw wypenion szczeglnym wiatem jaki roztacza wok siebi mio klasztor ktrym toczi akcja filmu nie rnibi innych gdybi nie fakt trzech mieszkajcych tam zakonnikw posiada pewn niezwyk cech kadi nich pachni innym owocowym zapachem jeden czeremch drugi czereni trzeci liw zapachi maj szczegln waciwoci pewnego dnia klasztoru przyjeda moda konserwatorka malarstwa ktra otrzymuj zleceni odnowienia tamtejszych obrazw natasza pojawia jaminowi wraz swoj letni crk gieni urok dociekliwo dziewczynki wprowadzaj wiel zamtu spokojn dotd ycie mnichw tej historii ludzi budynki zapachi maj swoje tajemnic \n",
      "------------\n",
      "\n",
      "american bill hick stori biograph documentari film life comedian bill hick film produc matt harlock paul thoma featur archiv footag interview famili friend includ kevin booth filmmak use cut past anim techniqu add movement larg collect still pictur use document event hick life film made north american premier south southwest film festiv film nomin grierson british documentari award entertain documentari categori also nomin best graphic anim categori cinema eye award award includ dalla film festiv texa filmmak award littl rock oxford american best southern film award best documentari downtown film festiv rotten tomato first review count rate posit \n",
      "------------\n",
      "\n",
      "comdia conta histria hermanoteu irmo micalateia tpico hebreu ano zero companheiro bom pastor obedient ele receb misso divina guiar seu povo terra godah numa stira histriabblica moissem cenrio que representa imenso deserto ator ricardo pipo interpreta hermanoteu que encontra pelo caminho personagen que clepatra filho todo poderosoo ator adriana nune adriano siri jovan nune victor leal welder rodrigu revezam outro papi voz deu que aparec chico anysioseguindo linha stira grupo hermanoteu terra godah visita diversidad bblia comdia faz ainda inmera cita atualidad aproximando passado present \n",
      "------------\n",
      "\n"
     ]
    }
   ],
   "source": [
    "topic_0 = np.argsort(document_topics[:, 0])[::-1]\n",
    "# print the five documents where the topic is most important \n",
    "for index in topic_0[:5]:\n",
    "    # pshow first two sentences\n",
    "    print(main_dataset.story[index],\"\\n------------\\n\")"
   ]
  },
  {
   "cell_type": "code",
   "execution_count": 52,
   "metadata": {},
   "outputs": [
    {
     "name": "stdout",
     "output_type": "stream",
     "text": [
      "esra didem zeynep yakn arkada olmalarna ramen birbirinden farkl hayatlar srdren farkl karakterler sahip kiidir sessiz sakin olan esra deli dolu olan didem domin karakter sahip olan zeynep arkadatan istikrarl olarak ilikisini srdrebilmi olan zeynepin hem esrann hem didemin hayatnda deiik sprizler neden olacaktr stemedii bir ite yllardr alan esra bir cesaret rnei gstererek hayatn deitirmey karar verir bunun iin ilk adm atar iinden istifa eder giden ilikisini sona erdirir uzun aramalarndan sonra zar zor bulduu reklam ajansna almaya balayana esray bir srpriz bekliyordur \n",
      "------------\n",
      "\n",
      "disney channel product juli sherman wolf screenplay adapt popular novel avalon high meg cabot elain elli harrison move minnesota annapoli maryland parent take year long sabbat continu mediev studi nearbi new high school avalon high seem like typic high school stereotyp student lanc jock jennif cheerlead marco bad boydesperado senior class presid quarterback around good guy everyon avalon high appear even elli eventu becom appar avalon high situat ancient arthurian legend repeat jennif lanc marco morton correspond king arthur queen guinever knight lancelot mordr merlin respect \n",
      "------------\n",
      "\n",
      "schluufi birthday oogielov goobi zoozi toofi along friend edgar windi window ruffi organ parti shh secret everyth along perfectli edgar trip lose last five magic balloon lovelylovevil oogilov set find magic balloon time save friend parti along way meet interest charact inde includ dotti rounder clori leachman bobbi wobbl carey elw milki marvin chazz palminteri rosali rosebud toni braxton lola lero sombero christoph lloyd jaim pressli new friend help recov magic balloon get back cottag time celebr schluufi surpris birthday \n",
      "------------\n",
      "\n",
      "mariposa becom royal ambassador flutterfield sent bring peac fairi land rival crystal fairi shimmerval mariposa doesnt make great first impress king becom fast friend shi daughter princess catania howev misunderstand caus mariposa banish fairi land mariposa zee return flutterfield encount dark fairi way destroy shimmerval mariposa rush back help princess catania save fairi land togeth two girl prove best way make friend friend \n",
      "------------\n",
      "\n",
      "mid decemb brigad chief haruhi suzumiya announc brigad hold christma parti clubroom japanes hotpot dinner brigad member kyon yuki nagato mikuru asahina itsuki koizumi start prepar everyth parti costum decor coupl day later kyon arriv school find haruhi miss mikuru claim never known kyon koizumi also miss yuki becom sole member literatur club brigad seem never exist haruhi suzumiya one school ever heard except kyon \n",
      "------------\n",
      "\n"
     ]
    }
   ],
   "source": [
    "topic_0 = np.argsort(document_topics[:, 1])[::-1]\n",
    "# print the five documents where the topic is most important \n",
    "for index in topic_0[:5]:\n",
    "    # pshow first two sentences\n",
    "    print(main_dataset.story[index],\"\\n------------\\n\")"
   ]
  },
  {
   "cell_type": "code",
   "execution_count": 53,
   "metadata": {},
   "outputs": [],
   "source": [
    "# Let's increase the number of topics to 20 \n",
    "n_topics = 20\n",
    "lda = LatentDirichletAllocation(n_components=n_topics, learning_method=\"batch\",\n",
    "                                max_iter=25, random_state=0) \n",
    "document_topics = lda.fit_transform(X)\n",
    "\n",
    "# Sort the tokens and get top 2 tokens in each topic\n",
    "sorting = np.argsort(lda.components_, axis=1)[:, ::-1]\n",
    "feature_names = np.array(vect.get_feature_names())\n",
    "topic_names = [\"{:>2} \".format(i) + \" \".join(words) \n",
    "               for i, words in enumerate(feature_names[sorting[:, :2]])] "
   ]
  },
  {
   "cell_type": "code",
   "execution_count": 54,
   "metadata": {},
   "outputs": [
    {
     "data": {
      "text/plain": [
       "[' 0 star porn',\n",
       " ' 1 ben game',\n",
       " ' 2 murder polic',\n",
       " ' 3 life love',\n",
       " ' 4 team world',\n",
       " ' 5 school time',\n",
       " ' 6 mysteri friend',\n",
       " ' 7 isra nazi',\n",
       " ' 8 music film',\n",
       " ' 9 world scientist',\n",
       " '10 plan friend',\n",
       " '11 year work',\n",
       " '12 forc war',\n",
       " '13 prison death',\n",
       " '14 film movi',\n",
       " '15 stori film',\n",
       " '16 world life',\n",
       " '17 food life',\n",
       " '18 friend school',\n",
       " '19 love stori']"
      ]
     },
     "execution_count": 54,
     "metadata": {},
     "output_type": "execute_result"
    }
   ],
   "source": [
    "topic_names"
   ]
  },
  {
   "cell_type": "code",
   "execution_count": 55,
   "metadata": {},
   "outputs": [
    {
     "data": {
      "image/png": "[encoded data removed]",
      "text/plain": [
       "<Figure size 864x864 with 2 Axes>"
      ]
     },
     "metadata": {},
     "output_type": "display_data"
    }
   ],
   "source": [
    "# Let's visualize the result\n",
    "fig, ax = plt.subplots(1, 2, figsize=(12,12))\n",
    "# two column bar chart:\n",
    "for col in [0, 1]: \n",
    "    start = col*int(n_topics/2)\n",
    "    end=(col+1)*int(n_topics/2)\n",
    "    ax[col].barh(np.arange(int(n_topics/2)), np.sum(document_topics, axis=0)[start:end]) \n",
    "    ax[col].set_yticks(np.arange(int(n_topics/2))) \n",
    "    ax[col].set_yticklabels(topic_names[start:end], ha=\"left\", va=\"top\") \n",
    "    ax[col].invert_yaxis()\n",
    "    ax[col].set_xlim(0, 2000)\n",
    "    yax = ax[col].get_yaxis()\n",
    "    yax.set_tick_params(pad=130)\n",
    "    plt.tight_layout()"
   ]
  },
  {
   "cell_type": "markdown",
   "metadata": {},
   "source": [
    "#### Word Cloud Visualization"
   ]
  },
  {
   "cell_type": "code",
   "execution_count": 56,
   "metadata": {},
   "outputs": [
    {
     "data": {
      "image/png": "[encoded data removed]",
      "text/plain": [
       "<Figure size 504x504 with 1 Axes>"
      ]
     },
     "metadata": {},
     "output_type": "display_data"
    }
   ],
   "source": [
    "\n",
    "mask = np.array(Image.open(\"image2.png\"))\n",
    "wordcloud = WordCloud(background_color='white', max_words=1000, mask=mask,contour_color='#023075',contour_width=3,colormap='rainbow').generate(' '.join(main_dataset['story']))\n",
    "# create image as cloud\n",
    "plt.figure(figsize = (7,7))\n",
    "plt.imshow(wordcloud, interpolation=\"bilinear\")\n",
    "plt.axis(\"off\")\n",
    "# store to file\n",
    "plt.savefig(\"WDC.jpg\", format=\"png\")\n",
    "plt.show()"
   ]
  },
  {
   "cell_type": "markdown",
   "metadata": {},
   "source": [
    "# Modeling data"
   ]
  },
  {
   "cell_type": "code",
   "execution_count": null,
   "metadata": {},
   "outputs": [],
   "source": []
  },
  {
   "cell_type": "markdown",
   "metadata": {},
   "source": [
    "## Model 1: Logistic Regression"
   ]
  },
  {
   "cell_type": "code",
   "execution_count": 35,
   "metadata": {},
   "outputs": [
    {
     "name": "stdout",
     "output_type": "stream",
     "text": [
      "Accuracy score for Logistic Regression using Bag of Words :  69.425\n",
      "Accuracy score for Logistic Regression using TF-IDF :  69.925\n",
      "Accuracy score for Logistic Regression using LDA :  57.95\n",
      "Accuracy score for Logistic Regression using word embedding :  64.75\n"
     ]
    }
   ],
   "source": [
    "#running Logistic regression with default Class_weight\n",
    "\n",
    "model1_lr = LogisticRegression()\n",
    "\n",
    "labels = ['Bag of Words', 'TF-IDF', 'LDA','word embedding']\n",
    "X_train_group = [X_train_BoW, X_train_TFIDF, X_train_Lda, X_train_WE]\n",
    "X_test_group = [X_test_BoW, X_test_TFIDF, X_test_Lda, X_test_WE]\n",
    "\n",
    "y_pred_model1 = []\n",
    "\n",
    "for i in range(4):\n",
    "    model1_lr.fit(X_train_group[i], y_train)\n",
    "    y_pred_model1.append(model1_lr.predict(X_test_group[i]))\n",
    "    print(\"Accuracy score for Logistic Regression using\",labels[i],\": \", accuracy_score(y_test,y_pred_model1[i], normalize=True)*100)"
   ]
  },
  {
   "cell_type": "code",
   "execution_count": 36,
   "metadata": {},
   "outputs": [
    {
     "name": "stdout",
     "output_type": "stream",
     "text": [
      "Classification report of Logisitc Regression with default parameters using TF-IDF\n",
      "              precision    recall  f1-score   support\n",
      "\n",
      "           0       0.71      0.81      0.76      2318\n",
      "           1       0.67      0.55      0.61      1682\n",
      "\n",
      "    accuracy                           0.70      4000\n",
      "   macro avg       0.69      0.68      0.68      4000\n",
      "weighted avg       0.70      0.70      0.69      4000\n",
      "\n"
     ]
    }
   ],
   "source": [
    "# Classification report of best model\n",
    "\n",
    "print('Classification report of Logisitc Regression with default parameters using TF-IDF')\n",
    "print(classification_report(y_test,y_pred_model1[1]))"
   ]
  },
  {
   "cell_type": "markdown",
   "metadata": {},
   "source": [
    "#### Logistic Regression with default parameters is performing good. However, we will try to increase its accuracy using different hyper parameters."
   ]
  },
  {
   "cell_type": "code",
   "execution_count": 37,
   "metadata": {},
   "outputs": [
    {
     "name": "stdout",
     "output_type": "stream",
     "text": [
      "Accuracy score for Logistic Regression using Bag of Words :  69.425\n",
      "Accuracy score for Logistic Regression using TF-IDF :  69.89999999999999\n",
      "Accuracy score for Logistic Regression using LDA :  53.925\n",
      "Accuracy score for Logistic Regression using word embedding :  64.0\n"
     ]
    }
   ],
   "source": [
    "# implementing Logistic Regression to account for imbalanced dataset\n",
    "\n",
    "model_lr = LogisticRegression(max_iter=300, class_weight={1: 0.57, 0: 0.43}) #set class_weight\n",
    "\n",
    "y_pred_lr = []\n",
    "\n",
    "for i in range(4):\n",
    "    model_lr.fit(X_train_group[i], y_train)\n",
    "    y_pred_lr.append(model_lr.predict(X_test_group[i]))\n",
    "    print(\"Accuracy score for Logistic Regression using\",labels[i],\": \", accuracy_score(y_test,y_pred_lr[i], normalize=True)*100)"
   ]
  },
  {
   "cell_type": "code",
   "execution_count": 39,
   "metadata": {},
   "outputs": [
    {
     "name": "stdout",
     "output_type": "stream",
     "text": [
      "Classification report of Logistic Regression using class-weight with TF-IDF\n",
      "              precision    recall  f1-score   support\n",
      "\n",
      "           0       0.75      0.72      0.73      2318\n",
      "           1       0.63      0.68      0.65      1682\n",
      "\n",
      "    accuracy                           0.70      4000\n",
      "   macro avg       0.69      0.70      0.69      4000\n",
      "weighted avg       0.70      0.70      0.70      4000\n",
      "\n"
     ]
    }
   ],
   "source": [
    "#classification report of best model\n",
    "\n",
    "print('Classification report of Logistic Regression using class-weight with TF-IDF')\n",
    "print(classification_report(y_test,y_pred_lr[1]))"
   ]
  },
  {
   "cell_type": "markdown",
   "metadata": {},
   "source": [
    "#### We can see that Logistic Regression with class weights is performing better than default model. So now, we will try to increase its accuracy using different hyper parameters. Lets use Cross Validation on the model with the highest accuracy score."
   ]
  },
  {
   "cell_type": "code",
   "execution_count": 40,
   "metadata": {},
   "outputs": [
    {
     "name": "stdout",
     "output_type": "stream",
     "text": [
      "Fitting 3 folds for each of 6 candidates, totalling 18 fits\n",
      "[CV] END ............................................C=0.001; total time=   1.1s\n",
      "[CV] END ............................................C=0.001; total time=   1.0s\n",
      "[CV] END ............................................C=0.001; total time=   1.0s\n",
      "[CV] END .............................................C=0.01; total time=   1.1s\n",
      "[CV] END .............................................C=0.01; total time=   1.0s\n",
      "[CV] END .............................................C=0.01; total time=   1.0s\n",
      "[CV] END ..............................................C=0.1; total time=   1.3s\n",
      "[CV] END ..............................................C=0.1; total time=   1.2s\n",
      "[CV] END ..............................................C=0.1; total time=   1.2s\n",
      "[CV] END ..............................................C=1.0; total time=   2.4s\n",
      "[CV] END ..............................................C=1.0; total time=   2.4s\n",
      "[CV] END ..............................................C=1.0; total time=   2.4s\n",
      "[CV] END ...............................................C=10; total time=   5.3s\n",
      "[CV] END ...............................................C=10; total time=   6.8s\n",
      "[CV] END ...............................................C=10; total time=   5.7s\n",
      "[CV] END ..............................................C=100; total time=  10.9s\n",
      "[CV] END ..............................................C=100; total time=  10.1s\n",
      "[CV] END ..............................................C=100; total time=  11.2s\n",
      "Best parameters for Logistic Regression:  {'C': 10}\n",
      "Best Cross-validation score for Logistic Regression:  0.6898127749032309\n"
     ]
    }
   ],
   "source": [
    "params = {'C': [0.001, 0.01, 0.1, 1.0, 10, 100]}\n",
    "\n",
    "model1_randomsearch = GridSearchCV(estimator = LogisticRegression(max_iter=300, class_weight={1: 0.57, 0: 0.43}),\n",
    "                           param_grid = params,\n",
    "                           cv=cv, scoring='accuracy',\n",
    "                           verbose=2, return_train_score=True)\n",
    "\n",
    "model1_randomsearch.fit(X_train_TFIDF, y_train)\n",
    "# Used TF-IDF data as defalut model was performing best \n",
    "\n",
    "print(\"Best parameters for Logistic Regression: \", model1_randomsearch.best_params_)\n",
    "print(\"Best Cross-validation score for Logistic Regression: \", model1_randomsearch.best_score_)"
   ]
  },
  {
   "cell_type": "code",
   "execution_count": 41,
   "metadata": {},
   "outputs": [
    {
     "name": "stdout",
     "output_type": "stream",
     "text": [
      "Accuracy score for Logistic Regression with tuned hyper-parameters:  70.325\n"
     ]
    }
   ],
   "source": [
    "model1 = model1_randomsearch.best_estimator_\n",
    "\n",
    "y_pred_model1_htp = model1.predict(X_test_TFIDF)\n",
    "\n",
    "print(\"Accuracy score for Logistic Regression with tuned hyper-parameters: \", accuracy_score(y_test,y_pred_model1_htp, normalize=True)*100)"
   ]
  },
  {
   "cell_type": "code",
   "execution_count": 42,
   "metadata": {},
   "outputs": [
    {
     "name": "stdout",
     "output_type": "stream",
     "text": [
      "Logistic Regression accounting with tuned hyperparameters\n",
      "              precision    recall  f1-score   support\n",
      "\n",
      "           0       0.75      0.73      0.74      2318\n",
      "           1       0.64      0.66      0.65      1682\n",
      "\n",
      "    accuracy                           0.70      4000\n",
      "   macro avg       0.70      0.70      0.70      4000\n",
      "weighted avg       0.70      0.70      0.70      4000\n",
      "\n",
      "\n"
     ]
    }
   ],
   "source": [
    "# classifiaction report for the tuned paramters\n",
    "\n",
    "print('Logistic Regression accounting with tuned hyperparameters')\n",
    "print(classification_report(y_test,y_pred_model1_htp))\n",
    "print('')"
   ]
  },
  {
   "cell_type": "markdown",
   "metadata": {},
   "source": [
    "- Logistic Regression Analysis:  Using CV with hyper tuned parameters and accounting for weight classes using the preprocessing TF-IDF method, we find the highest accuracy is 70.32%. "
   ]
  },
  {
   "cell_type": "markdown",
   "metadata": {},
   "source": [
    "## Model 2: Multinomial Naive Bayes"
   ]
  },
  {
   "cell_type": "code",
   "execution_count": 43,
   "metadata": {},
   "outputs": [
    {
     "name": "stdout",
     "output_type": "stream",
     "text": [
      "Accuracy score for Multinomial Naive Bayes Bag of Words :  68.05\n",
      "Accuracy score for Multinomial Naive Bayes TF-IDF :  59.75\n",
      "Accuracy score for Multinomial Naive Bayes LDA :  57.95\n"
     ]
    }
   ],
   "source": [
    "# With default hyperparameters\n",
    "\n",
    "model_nb = MultinomialNB()\n",
    "\n",
    "y_pred_model2 = []\n",
    "\n",
    "for i in range(3):\n",
    "    model_nb.fit(X_train_group[i], y_train)\n",
    "    y_pred_model2.append(model_nb.predict(X_test_group[i]))\n",
    "    print(\"Accuracy score for Multinomial Naive Bayes\",labels[i],\": \", accuracy_score(y_test, y_pred_model2[i], normalize=True)*100)"
   ]
  },
  {
   "cell_type": "code",
   "execution_count": 44,
   "metadata": {},
   "outputs": [
    {
     "name": "stdout",
     "output_type": "stream",
     "text": [
      " Multinomial Naive Bayes Classification Report Using Bag of Words Preprocessing Method\n",
      "              precision    recall  f1-score   support\n",
      "\n",
      "           0       0.68      0.86      0.76      2318\n",
      "           1       0.69      0.44      0.54      1682\n",
      "\n",
      "    accuracy                           0.68      4000\n",
      "   macro avg       0.68      0.65      0.65      4000\n",
      "weighted avg       0.68      0.68      0.66      4000\n",
      "\n",
      "\n"
     ]
    }
   ],
   "source": [
    "print(' Multinomial Naive Bayes Classification Report Using Bag of Words Preprocessing Method')\n",
    "print(classification_report(y_test,y_pred_model2[0]))\n",
    "print('')"
   ]
  },
  {
   "cell_type": "code",
   "execution_count": 45,
   "metadata": {},
   "outputs": [
    {
     "name": "stdout",
     "output_type": "stream",
     "text": [
      "Best parameters for Multinomial Naive Bayes:  {'alpha': 1.0}\n",
      "Best Cross-validation score for Multinomial Naive Bayes:  0.6850001967455174\n"
     ]
    }
   ],
   "source": [
    "# Cross validation on the best model of Multinomial Naive Bayes\n",
    "\n",
    "param_grid = {'alpha': [0.001, 0.01, 0.1, 1.0]}\n",
    "\n",
    "model2_randomsearch = GridSearchCV(estimator = MultinomialNB(),\n",
    "                            param_grid = param_grid, cv=cv,\n",
    "                           scoring='accuracy',\n",
    "                           return_train_score=True)\n",
    "\n",
    "model2_randomsearch.fit(X_train_BoW, y_train)\n",
    "# Used Bag of Words data as defalut model was performing best \n",
    "\n",
    "print(\"Best parameters for Multinomial Naive Bayes: \", model2_randomsearch.best_params_)\n",
    "print(\"Best Cross-validation score for Multinomial Naive Bayes: \", model2_randomsearch.best_score_)"
   ]
  },
  {
   "cell_type": "code",
   "execution_count": 46,
   "metadata": {},
   "outputs": [
    {
     "name": "stdout",
     "output_type": "stream",
     "text": [
      "Accuracy score for Multinomial Naive Bayes with tuned hyper-parameters:  68.05\n"
     ]
    }
   ],
   "source": [
    "model2 = model2_randomsearch.best_estimator_\n",
    "\n",
    "y_pred_model2 = model2.predict(X_test_BoW)\n",
    "\n",
    "print(\"Accuracy score for Multinomial Naive Bayes with tuned hyper-parameters: \", accuracy_score(y_test, y_pred_model2, normalize=True)*100)"
   ]
  },
  {
   "cell_type": "markdown",
   "metadata": {},
   "source": [
    "- Multinomial Naive Bayes Analysis: Highest Accuracy preprocessing method is Bag of Words with an accuracy of 68.05%. Attempting to run CV yielded the same level of accuracy received."
   ]
  },
  {
   "cell_type": "markdown",
   "metadata": {},
   "source": [
    "## Model 3: Stochastic Gradient Descent"
   ]
  },
  {
   "cell_type": "code",
   "execution_count": 47,
   "metadata": {},
   "outputs": [
    {
     "name": "stdout",
     "output_type": "stream",
     "text": [
      "Accuracy score for Stochastic Gradient Descent Bag of Words :  68.22500000000001\n",
      "Accuracy score for Stochastic Gradient Descent TF-IDF :  69.8\n",
      "Accuracy score for Stochastic Gradient Descent LDA :  57.95\n",
      "Accuracy score for Stochastic Gradient Descent word embedding :  64.17500000000001\n"
     ]
    }
   ],
   "source": [
    "# With default hyperparameters\n",
    "\n",
    "model_sgd = SGDClassifier()\n",
    "\n",
    "y_pred_model3 = []\n",
    "\n",
    "for i in range(4):\n",
    "    model_sgd.fit(X_train_group[i], y_train)\n",
    "    y_pred_model3.append(model_sgd.predict(X_test_group[i]))\n",
    "    print(\"Accuracy score for Stochastic Gradient Descent\",labels[i],\": \", accuracy_score(y_test, y_pred_model3[i], normalize=True)*100)                    "
   ]
  },
  {
   "cell_type": "code",
   "execution_count": 48,
   "metadata": {},
   "outputs": [
    {
     "name": "stdout",
     "output_type": "stream",
     "text": [
      "Best parameters for Stochastic Gradient Descent:  {'penalty': 'elasticnet', 'loss': 'hinge', 'learning_rate': 'optimal', 'alpha': 100}\n",
      "Best Cross-validation score for Stochastic Gradient Descent:  0.5265066130750157\n"
     ]
    }
   ],
   "source": [
    "# SGD using cross validation \n",
    "\n",
    "params = {\n",
    "    'loss': ['hinge', 'log', 'modified_huber', 'squared_hinge', 'perceptron'],\n",
    "    'penalty': ['l1', 'l2', 'elasticnet'],\n",
    "    'alpha': [ 1, 10, 100, 1000],\n",
    "    'learning_rate': ['constant', 'optimal', 'invscaling', 'adaptive']\n",
    "}\n",
    "\n",
    "model3_randomsearch = RandomizedSearchCV(estimator = SGDClassifier(),\n",
    "                            param_distributions = params,\n",
    "                           cv=cv, scoring='accuracy',\n",
    "                           return_train_score=True)\n",
    "\n",
    "model3_randomsearch.fit(X_train_TFIDF, y_train)\n",
    "# Used TF-IDF data as defalut model was performing best with TF-IDF preprocessing method \n",
    "\n",
    "print(\"Best parameters for Stochastic Gradient Descent: \", model3_randomsearch.best_params_)\n",
    "print(\"Best Cross-validation score for Stochastic Gradient Descent: \", model3_randomsearch.best_score_)"
   ]
  },
  {
   "cell_type": "code",
   "execution_count": 49,
   "metadata": {},
   "outputs": [
    {
     "name": "stdout",
     "output_type": "stream",
     "text": [
      "Accuracy score for Stochastic Gradient Descent with tuned hyper-parameters:  42.05\n"
     ]
    }
   ],
   "source": [
    "model3 = model3_randomsearch.best_estimator_\n",
    "y_pred_model3_1 = model3.predict(X_test_TFIDF)\n",
    "\n",
    "print(\"Accuracy score for Stochastic Gradient Descent with tuned hyper-parameters: \", accuracy_score(y_test, y_pred_model3_1, normalize=True)*100)"
   ]
  },
  {
   "cell_type": "code",
   "execution_count": 50,
   "metadata": {},
   "outputs": [
    {
     "name": "stdout",
     "output_type": "stream",
     "text": [
      " Stochastic Gradient Descent Classification Report Using TF-IDF Preprocessing Method\n",
      "              precision    recall  f1-score   support\n",
      "\n",
      "           0       0.72      0.79      0.75      2318\n",
      "           1       0.66      0.57      0.62      1682\n",
      "\n",
      "    accuracy                           0.70      4000\n",
      "   macro avg       0.69      0.68      0.68      4000\n",
      "weighted avg       0.69      0.70      0.69      4000\n",
      "\n",
      "\n"
     ]
    }
   ],
   "source": [
    "print(' Stochastic Gradient Descent Classification Report Using TF-IDF Preprocessing Method')\n",
    "print(classification_report(y_test,y_pred_model3[1]))\n",
    "print('')"
   ]
  },
  {
   "cell_type": "markdown",
   "metadata": {},
   "source": [
    "- Stochastic Gradient Descent Analysis: Preprocessing method with highest accuracy is TF-IDF with 69.8%. Using CV and hypertuned parameters the accuracy dropped to 42.05%"
   ]
  },
  {
   "cell_type": "markdown",
   "metadata": {},
   "source": [
    "## Model 4: Extreme Gradient Boosting"
   ]
  },
  {
   "cell_type": "code",
   "execution_count": 51,
   "metadata": {},
   "outputs": [
    {
     "name": "stdout",
     "output_type": "stream",
     "text": [
      "Accuracy score for SGDClassifier Bag of Words :  66.875\n",
      "Accuracy score for SGDClassifier TF-IDF :  66.9\n",
      "Accuracy score for SGDClassifier LDA :  54.85\n",
      "Accuracy score for SGDClassifier word embedding :  62.775000000000006\n"
     ]
    }
   ],
   "source": [
    "\n",
    "model_xgb = XGBClassifier() \n",
    "\n",
    "y_pred_model4 = []\n",
    "\n",
    "for i in range(4):\n",
    "    model_xgb.fit(X_train_group[i], y_train)\n",
    "    y_pred_model4.append(model_xgb.predict(X_test_group[i]))\n",
    "    print(\"Accuracy score for SGDClassifier\",labels[i],\": \", accuracy_score(y_test,y_pred_model4[i], normalize=True)*100)\n",
    "    "
   ]
  },
  {
   "cell_type": "code",
   "execution_count": 52,
   "metadata": {},
   "outputs": [
    {
     "name": "stdout",
     "output_type": "stream",
     "text": [
      "Fitting 3 folds for each of 10 candidates, totalling 30 fits\n",
      "[CV] END ...learning_rate=0.2, max_depth=3, n_estimators=300; total time=  13.1s\n",
      "[CV] END ...learning_rate=0.2, max_depth=3, n_estimators=300; total time=  19.3s\n",
      "[CV] END ...learning_rate=0.2, max_depth=3, n_estimators=300; total time=  19.4s\n",
      "[CV] END ...learning_rate=0.3, max_depth=5, n_estimators=100; total time=  10.0s\n",
      "[CV] END ...learning_rate=0.3, max_depth=5, n_estimators=100; total time=   9.6s\n",
      "[CV] END ...learning_rate=0.3, max_depth=5, n_estimators=100; total time=   9.6s\n",
      "[CV] END ...learning_rate=0.1, max_depth=6, n_estimators=300; total time=  34.6s\n",
      "[CV] END ...learning_rate=0.1, max_depth=6, n_estimators=300; total time=  34.3s\n",
      "[CV] END ...learning_rate=0.1, max_depth=6, n_estimators=300; total time=  34.8s\n",
      "[CV] END ...learning_rate=0.1, max_depth=5, n_estimators=100; total time=   9.9s\n",
      "[CV] END ...learning_rate=0.1, max_depth=5, n_estimators=100; total time=   9.9s\n",
      "[CV] END ...learning_rate=0.1, max_depth=5, n_estimators=100; total time=   9.9s\n",
      "[CV] END ...learning_rate=0.2, max_depth=3, n_estimators=100; total time=   6.0s\n",
      "[CV] END ...learning_rate=0.2, max_depth=3, n_estimators=100; total time=   6.1s\n",
      "[CV] END ...learning_rate=0.2, max_depth=3, n_estimators=100; total time=   6.0s\n",
      "[CV] END .learning_rate=0.01, max_depth=10, n_estimators=500; total time= 1.9min\n",
      "[CV] END .learning_rate=0.01, max_depth=10, n_estimators=500; total time= 1.8min\n",
      "[CV] END .learning_rate=0.01, max_depth=10, n_estimators=500; total time= 1.8min\n",
      "[CV] END ..learning_rate=0.3, max_depth=15, n_estimators=300; total time= 1.4min\n",
      "[CV] END ..learning_rate=0.3, max_depth=15, n_estimators=300; total time= 1.4min\n",
      "[CV] END ..learning_rate=0.3, max_depth=15, n_estimators=300; total time= 1.4min\n",
      "[CV] END ...learning_rate=0.1, max_depth=3, n_estimators=100; total time=   6.9s\n",
      "[CV] END ...learning_rate=0.1, max_depth=3, n_estimators=100; total time=   6.3s\n",
      "[CV] END ...learning_rate=0.1, max_depth=3, n_estimators=100; total time=   6.3s\n",
      "[CV] END ..learning_rate=0.01, max_depth=6, n_estimators=800; total time= 1.7min\n",
      "[CV] END ..learning_rate=0.01, max_depth=6, n_estimators=800; total time= 1.6min\n",
      "[CV] END ..learning_rate=0.01, max_depth=6, n_estimators=800; total time= 1.6min\n",
      "[CV] END ..learning_rate=0.01, max_depth=6, n_estimators=100; total time=  12.5s\n",
      "[CV] END ..learning_rate=0.01, max_depth=6, n_estimators=100; total time=  12.2s\n",
      "[CV] END ..learning_rate=0.01, max_depth=6, n_estimators=100; total time=  12.4s\n",
      "Best parameters for EXtreme Gradient Boosting:  {'n_estimators': 300, 'max_depth': 6, 'learning_rate': 0.1}\n",
      "Best Cross-validation score for EXtreme Gradient Boosting:  0.6745624076195426\n"
     ]
    }
   ],
   "source": [
    "params = { 'max_depth': [3, 5, 6, 10, 15, 20],\n",
    "           'learning_rate': [0.01, 0.1, 0.2, 0.3],\n",
    "           'n_estimators': [100, 300, 500, 800]}\n",
    "\n",
    "model4_randomsearch = RandomizedSearchCV(estimator = XGBClassifier(),\n",
    "                            param_distributions = params,\n",
    "                           cv=cv,\n",
    "                           scoring='accuracy',\n",
    "                            verbose=2,\n",
    "                           return_train_score=True)\n",
    "\n",
    "model4_randomsearch.fit(X_train_TFIDF, y_train)\n",
    "# Used TF-IDF data as defalut model was performing best \n",
    "\n",
    "print(\"Best parameters for EXtreme Gradient Boosting: \", model4_randomsearch.best_params_)\n",
    "print(\"Best Cross-validation score for EXtreme Gradient Boosting: \", model4_randomsearch.best_score_)"
   ]
  },
  {
   "cell_type": "code",
   "execution_count": 53,
   "metadata": {},
   "outputs": [
    {
     "name": "stdout",
     "output_type": "stream",
     "text": [
      "Accuracy score for Extreme Gradient Boosting with tuned hyper-parameters:  68.45\n"
     ]
    }
   ],
   "source": [
    "model4 = model4_randomsearch.best_estimator_\n",
    "\n",
    "y_pred_model4 = model4.predict(X_test_TFIDF)\n",
    "\n",
    "print(\"Accuracy score for Extreme Gradient Boosting with tuned hyper-parameters: \", accuracy_score(y_test,y_pred_model4, normalize=True)*100)"
   ]
  },
  {
   "cell_type": "code",
   "execution_count": 54,
   "metadata": {},
   "outputs": [
    {
     "name": "stdout",
     "output_type": "stream",
     "text": [
      " Extreme Gradient Boosting Report Using Bag of Words\n",
      "              precision    recall  f1-score   support\n",
      "\n",
      "           0       0.71      0.76      0.74      2318\n",
      "           1       0.64      0.57      0.60      1682\n",
      "\n",
      "    accuracy                           0.68      4000\n",
      "   macro avg       0.68      0.67      0.67      4000\n",
      "weighted avg       0.68      0.68      0.68      4000\n",
      "\n"
     ]
    }
   ],
   "source": [
    "print(' Extreme Gradient Boosting Report Using Bag of Words')\n",
    "print(classification_report(y_test,y_pred_model4))"
   ]
  },
  {
   "cell_type": "markdown",
   "metadata": {},
   "source": [
    " - Extreme Gradient Boosting Analysis: Highest Accuracy score 66.9% using TF-IDF method. Best CV using best fitted model of TF-IDF gives us an accuracy score of 68.45%"
   ]
  },
  {
   "cell_type": "markdown",
   "metadata": {},
   "source": [
    "## Model 5: Random Forest"
   ]
  },
  {
   "cell_type": "code",
   "execution_count": 57,
   "metadata": {},
   "outputs": [
    {
     "name": "stdout",
     "output_type": "stream",
     "text": [
      "Accuracy score for Random Forest Classifier Bag of Words :  67.05\n",
      "Accuracy score for Random Forest Classifier TF-IDF :  69.15\n",
      "Accuracy score for Random Forest Classifier LDA :  55.275\n",
      "Accuracy score for Random Forest Classifier word embedding :  63.775000000000006\n"
     ]
    }
   ],
   "source": [
    "model5 = RandomForestClassifier()\n",
    "\n",
    "y_pred_model5 = []\n",
    "\n",
    "for i in range(4):\n",
    "    model5.fit(X_train_group[i], y_train)\n",
    "    y_pred_model5.append(model5.predict(X_test_group[i]))\n",
    "    print(\"Accuracy score for Random Forest Classifier\",labels[i],\": \", accuracy_score(y_test,y_pred_model5[i], normalize=True)*100)"
   ]
  },
  {
   "cell_type": "code",
   "execution_count": 59,
   "metadata": {},
   "outputs": [
    {
     "name": "stdout",
     "output_type": "stream",
     "text": [
      " Random Forest Report using TFIDF method\n",
      "              precision    recall  f1-score   support\n",
      "\n",
      "           0       0.71      0.79      0.75      2318\n",
      "           1       0.66      0.55      0.60      1682\n",
      "\n",
      "    accuracy                           0.69      4000\n",
      "   macro avg       0.68      0.67      0.67      4000\n",
      "weighted avg       0.69      0.69      0.69      4000\n",
      "\n"
     ]
    }
   ],
   "source": [
    "print(' Random Forest Report using TFIDF method')\n",
    "print(classification_report(y_test,y_pred_model5[1]))"
   ]
  },
  {
   "cell_type": "markdown",
   "metadata": {},
   "source": [
    "- Random Forest Analysis: Using TFIDF we have a 69.15% Accuracy with default parameters."
   ]
  },
  {
   "cell_type": "markdown",
   "metadata": {},
   "source": [
    "## Model 6: KNN"
   ]
  },
  {
   "cell_type": "markdown",
   "metadata": {},
   "source": [
    "- Using only bag of words technique as it was giving the best results for above models"
   ]
  },
  {
   "cell_type": "code",
   "execution_count": 62,
   "metadata": {},
   "outputs": [
    {
     "name": "stdout",
     "output_type": "stream",
     "text": [
      "Accuracy score for K Nearest Classifier Bag of Words :  57.975\n",
      "Accuracy score for K Nearest Classifier TF-IDF :  60.75000000000001\n",
      "Accuracy score for K Nearest Classifier LDA :  56.775\n",
      "Accuracy score for K Nearest Classifier word embedding :  61.6\n"
     ]
    }
   ],
   "source": [
    "model6 = KNeighborsClassifier(n_neighbors=6)\n",
    "\n",
    "y_pred_model6 = []\n",
    "\n",
    "for i in range(4):\n",
    "    model6.fit(X_train_group[i], y_train)\n",
    "    y_pred_model6.append(model6.predict(X_test_group[i]))\n",
    "    print(\"Accuracy score for K Nearest Classifier\",labels[i],\": \", accuracy_score(y_test,y_pred_model6[i], normalize=True)*100)"
   ]
  },
  {
   "cell_type": "code",
   "execution_count": 61,
   "metadata": {},
   "outputs": [
    {
     "name": "stdout",
     "output_type": "stream",
     "text": [
      " KNN Report using Word Embedding method \n",
      "              precision    recall  f1-score   support\n",
      "\n",
      "           0       0.63      0.82      0.71      2318\n",
      "           1       0.57      0.34      0.43      1682\n",
      "\n",
      "    accuracy                           0.62      4000\n",
      "   macro avg       0.60      0.58      0.57      4000\n",
      "weighted avg       0.61      0.62      0.59      4000\n",
      "\n"
     ]
    }
   ],
   "source": [
    "print(' KNN Report using Word Embedding method ')\n",
    "print(classification_report(y_test,y_pred_model6[3]))"
   ]
  },
  {
   "cell_type": "markdown",
   "metadata": {},
   "source": [
    "- KNN Analysis: Using Word Embedding we have an accuracy of 62%."
   ]
  },
  {
   "cell_type": "markdown",
   "metadata": {},
   "source": [
    "## Model 7: SVM "
   ]
  },
  {
   "cell_type": "markdown",
   "metadata": {},
   "source": [
    "- Using only bag of words technique as it was giving the best results for above models."
   ]
  },
  {
   "cell_type": "code",
   "execution_count": 63,
   "metadata": {},
   "outputs": [
    {
     "name": "stdout",
     "output_type": "stream",
     "text": [
      "Accuracy score for SVM Classifier Bag of Words :  70.025\n",
      "Accuracy score for SVM Classifier TF-IDF :  69.5\n",
      "Accuracy score for SVM Classifier LDA :  57.95\n",
      "Accuracy score for SVM Classifier word embedding :  65.2\n"
     ]
    }
   ],
   "source": [
    "# SVM model with default hyperparameters\n",
    "\n",
    "model7 = SVC()\n",
    "\n",
    "y_pred_model7 = []\n",
    "\n",
    "for i in range(4):\n",
    "    model7.fit(X_train_group[i], y_train)\n",
    "    y_pred_model7.append(model7.predict(X_test_group[i]))\n",
    "    print(\"Accuracy score for SVM Classifier\",labels[i],\": \", accuracy_score(y_test,y_pred_model7[i], normalize=True)*100)"
   ]
  },
  {
   "cell_type": "code",
   "execution_count": 64,
   "metadata": {},
   "outputs": [
    {
     "name": "stdout",
     "output_type": "stream",
     "text": [
      "Fitting 3 folds for each of 10 candidates, totalling 30 fits\n",
      "[CV] END ....................C=10, gamma=1.0, kernel=sigmoid; total time= 1.1min\n",
      "[CV] END ....................C=10, gamma=1.0, kernel=sigmoid; total time= 1.1min\n",
      "[CV] END ....................C=10, gamma=1.0, kernel=sigmoid; total time= 1.1min\n",
      "[CV] END ......................C=0.1, gamma=0.1, kernel=poly; total time= 6.4min\n",
      "[CV] END ......................C=0.1, gamma=0.1, kernel=poly; total time= 6.6min\n",
      "[CV] END ......................C=0.1, gamma=0.1, kernel=poly; total time= 6.7min\n",
      "[CV] END ...................C=1.0, gamma=1.0, kernel=sigmoid; total time= 1.1min\n",
      "[CV] END ...................C=1.0, gamma=1.0, kernel=sigmoid; total time= 1.2min\n",
      "[CV] END ...................C=1.0, gamma=1.0, kernel=sigmoid; total time= 1.2min\n",
      "[CV] END ........................C=10, gamma=0.1, kernel=rbf; total time= 8.0min\n",
      "[CV] END ........................C=10, gamma=0.1, kernel=rbf; total time= 6.8min\n",
      "[CV] END ........................C=10, gamma=0.1, kernel=rbf; total time= 7.3min\n",
      "[CV] END ......................C=0.1, gamma=1.0, kernel=poly; total time= 7.4min\n",
      "[CV] END ......................C=0.1, gamma=1.0, kernel=poly; total time= 6.8min\n",
      "[CV] END ......................C=0.1, gamma=1.0, kernel=poly; total time= 7.0min\n",
      "[CV] END .......................C=10, gamma=0.1, kernel=poly; total time= 7.4min\n",
      "[CV] END .......................C=10, gamma=0.1, kernel=poly; total time= 7.2min\n",
      "[CV] END .......................C=10, gamma=0.1, kernel=poly; total time= 7.4min\n",
      "[CV] END .......................C=1.0, gamma=0.1, kernel=rbf; total time=26.9min\n",
      "[CV] END .......................C=1.0, gamma=0.1, kernel=rbf; total time= 7.9min\n",
      "[CV] END .......................C=1.0, gamma=0.1, kernel=rbf; total time= 7.5min\n",
      "[CV] END .......................C=0.1, gamma=0.1, kernel=rbf; total time= 6.4min\n",
      "[CV] END .......................C=0.1, gamma=0.1, kernel=rbf; total time= 6.4min\n",
      "[CV] END .......................C=0.1, gamma=0.1, kernel=rbf; total time= 6.8min\n",
      "[CV] END ..................C=0.01, gamma=1.0, kernel=sigmoid; total time= 3.4min\n",
      "[CV] END ..................C=0.01, gamma=1.0, kernel=sigmoid; total time= 3.4min\n",
      "[CV] END ..................C=0.01, gamma=1.0, kernel=sigmoid; total time= 3.3min\n",
      "[CV] END ...................C=0.1, gamma=1.0, kernel=sigmoid; total time= 2.3min\n",
      "[CV] END ...................C=0.1, gamma=1.0, kernel=sigmoid; total time= 2.3min\n",
      "[CV] END ...................C=0.1, gamma=1.0, kernel=sigmoid; total time= 2.4min\n",
      "Best parameters for SVM Classifier:  {'kernel': 'sigmoid', 'gamma': 1.0, 'C': 0.01}\n",
      "Best Cross-validation score for SVM Classifier:  0.6316254345949115\n"
     ]
    }
   ],
   "source": [
    "# SVM using cross validation\n",
    "params = {'C': [0.01, 0.1, 1.0, 10],\n",
    "         'gamma': [0.01, 0.1, 1.0],\n",
    "         'kernel': ['rbf', 'poly', 'sigmoid']}\n",
    "\n",
    "model7_randomsearch = RandomizedSearchCV(estimator=SVC(), \n",
    "                                         param_distributions=params, \n",
    "                                        n_iter=10, cv=cv,\n",
    "                                        scoring='accuracy',\n",
    "                                         verbose=2, random_state=42)\n",
    "\n",
    "model7_randomsearch.fit(X_train_BoW, y_train)\n",
    "\n",
    "print(\"Best parameters for SVM Classifier: \", model7_randomsearch.best_params_)\n",
    "print(\"Best Cross-validation score for SVM Classifier: \", model7_randomsearch.best_score_)"
   ]
  },
  {
   "cell_type": "code",
   "execution_count": 65,
   "metadata": {},
   "outputs": [
    {
     "name": "stdout",
     "output_type": "stream",
     "text": [
      "Accuracy score for SVM Classifier with tuned hyperparameters :  64.725\n"
     ]
    }
   ],
   "source": [
    "model7 = model7_randomsearch.best_estimator_\n",
    "y_pred_model7 = model7.predict(X_test_BoW)\n",
    "\n",
    "print(\"Accuracy score for SVM Classifier with tuned hyperparameters : \", accuracy_score(y_test,y_pred_model7, normalize=True)*100)"
   ]
  },
  {
   "cell_type": "code",
   "execution_count": 66,
   "metadata": {},
   "outputs": [
    {
     "name": "stdout",
     "output_type": "stream",
     "text": [
      " SVM Report using Bag of Words method \n",
      "              precision    recall  f1-score   support\n",
      "\n",
      "           0       0.66      0.82      0.73      2318\n",
      "           1       0.62      0.41      0.50      1682\n",
      "\n",
      "    accuracy                           0.65      4000\n",
      "   macro avg       0.64      0.62      0.61      4000\n",
      "weighted avg       0.64      0.65      0.63      4000\n",
      "\n"
     ]
    }
   ],
   "source": [
    "print(' SVM Report using Bag of Words method ')\n",
    "print(classification_report(y_test,y_pred_model7))"
   ]
  },
  {
   "cell_type": "markdown",
   "metadata": {},
   "source": [
    "- SVM Analysis: Using Bag of Words we have an accuracy of 64.725%"
   ]
  },
  {
   "cell_type": "code",
   "execution_count": null,
   "metadata": {},
   "outputs": [],
   "source": []
  },
  {
   "cell_type": "markdown",
   "metadata": {},
   "source": [
    "# Testing Evaluation Data Set"
   ]
  },
  {
   "cell_type": "code",
   "execution_count": 67,
   "metadata": {},
   "outputs": [
    {
     "data": {
      "text/html": [
       "<style>#sk-container-id-2 {color: black;background-color: white;}#sk-container-id-2 pre{padding: 0;}#sk-container-id-2 div.sk-toggleable {background-color: white;}#sk-container-id-2 label.sk-toggleable__label {cursor: pointer;display: block;width: 100%;margin-bottom: 0;padding: 0.3em;box-sizing: border-box;text-align: center;}#sk-container-id-2 label.sk-toggleable__label-arrow:before {content: \"▸\";float: left;margin-right: 0.25em;color: #696969;}#sk-container-id-2 label.sk-toggleable__label-arrow:hover:before {color: black;}#sk-container-id-2 div.sk-estimator:hover label.sk-toggleable__label-arrow:before {color: black;}#sk-container-id-2 div.sk-toggleable__content {max-height: 0;max-width: 0;overflow: hidden;text-align: left;background-color: #f0f8ff;}#sk-container-id-2 div.sk-toggleable__content pre {margin: 0.2em;color: black;border-radius: 0.25em;background-color: #f0f8ff;}#sk-container-id-2 input.sk-toggleable__control:checked~div.sk-toggleable__content {max-height: 200px;max-width: 100%;overflow: auto;}#sk-container-id-2 input.sk-toggleable__control:checked~label.sk-toggleable__label-arrow:before {content: \"▾\";}#sk-container-id-2 div.sk-estimator input.sk-toggleable__control:checked~label.sk-toggleable__label {background-color: #d4ebff;}#sk-container-id-2 div.sk-label input.sk-toggleable__control:checked~label.sk-toggleable__label {background-color: #d4ebff;}#sk-container-id-2 input.sk-hidden--visually {border: 0;clip: rect(1px 1px 1px 1px);clip: rect(1px, 1px, 1px, 1px);height: 1px;margin: -1px;overflow: hidden;padding: 0;position: absolute;width: 1px;}#sk-container-id-2 div.sk-estimator {font-family: monospace;background-color: #f0f8ff;border: 1px dotted black;border-radius: 0.25em;box-sizing: border-box;margin-bottom: 0.5em;}#sk-container-id-2 div.sk-estimator:hover {background-color: #d4ebff;}#sk-container-id-2 div.sk-parallel-item::after {content: \"\";width: 100%;border-bottom: 1px solid gray;flex-grow: 1;}#sk-container-id-2 div.sk-label:hover label.sk-toggleable__label {background-color: #d4ebff;}#sk-container-id-2 div.sk-serial::before {content: \"\";position: absolute;border-left: 1px solid gray;box-sizing: border-box;top: 0;bottom: 0;left: 50%;z-index: 0;}#sk-container-id-2 div.sk-serial {display: flex;flex-direction: column;align-items: center;background-color: white;padding-right: 0.2em;padding-left: 0.2em;position: relative;}#sk-container-id-2 div.sk-item {position: relative;z-index: 1;}#sk-container-id-2 div.sk-parallel {display: flex;align-items: stretch;justify-content: center;background-color: white;position: relative;}#sk-container-id-2 div.sk-item::before, #sk-container-id-2 div.sk-parallel-item::before {content: \"\";position: absolute;border-left: 1px solid gray;box-sizing: border-box;top: 0;bottom: 0;left: 50%;z-index: -1;}#sk-container-id-2 div.sk-parallel-item {display: flex;flex-direction: column;z-index: 1;position: relative;background-color: white;}#sk-container-id-2 div.sk-parallel-item:first-child::after {align-self: flex-end;width: 50%;}#sk-container-id-2 div.sk-parallel-item:last-child::after {align-self: flex-start;width: 50%;}#sk-container-id-2 div.sk-parallel-item:only-child::after {width: 0;}#sk-container-id-2 div.sk-dashed-wrapped {border: 1px dashed gray;margin: 0 0.4em 0.5em 0.4em;box-sizing: border-box;padding-bottom: 0.4em;background-color: white;}#sk-container-id-2 div.sk-label label {font-family: monospace;font-weight: bold;display: inline-block;line-height: 1.2em;}#sk-container-id-2 div.sk-label-container {text-align: center;}#sk-container-id-2 div.sk-container {/* jupyter's `normalize.less` sets `[hidden] { display: none; }` but bootstrap.min.css set `[hidden] { display: none !important; }` so we also need the `!important` here to be able to override the default hidden behavior on the sphinx rendered scikit-learn.org. See: https://github.com/scikit-learn/scikit-learn/issues/21755 */display: inline-block !important;position: relative;}#sk-container-id-2 div.sk-text-repr-fallback {display: none;}</style><div id=\"sk-container-id-2\" class=\"sk-top-container\"><div class=\"sk-text-repr-fallback\"><pre>LogisticRegression(C=10, class_weight={0: 0.43, 1: 0.57}, max_iter=300)</pre><b>In a Jupyter environment, please rerun this cell to show the HTML representation or trust the notebook. <br />On GitHub, the HTML representation is unable to render, please try loading this page with nbviewer.org.</b></div><div class=\"sk-container\" hidden><div class=\"sk-item\"><div class=\"sk-estimator sk-toggleable\"><input class=\"sk-toggleable__control sk-hidden--visually\" id=\"sk-estimator-id-2\" type=\"checkbox\" checked><label for=\"sk-estimator-id-2\" class=\"sk-toggleable__label sk-toggleable__label-arrow\">LogisticRegression</label><div class=\"sk-toggleable__content\"><pre>LogisticRegression(C=10, class_weight={0: 0.43, 1: 0.57}, max_iter=300)</pre></div></div></div></div></div>"
      ],
      "text/plain": [
       "LogisticRegression(C=10, class_weight={0: 0.43, 1: 0.57}, max_iter=300)"
      ]
     },
     "execution_count": 67,
     "metadata": {},
     "output_type": "execute_result"
    }
   ],
   "source": [
    "model1.fit(vect_TFIDF.transform(main_dataset.story), y) #fitting complete dataset"
   ]
  },
  {
   "cell_type": "code",
   "execution_count": 68,
   "metadata": {},
   "outputs": [
    {
     "name": "stdout",
     "output_type": "stream",
     "text": [
      "Accuracy score for Logistic Regression for complete training dataset:  98.97500000000001\n"
     ]
    }
   ],
   "source": [
    "y_hat = model1.predict(vect_TFIDF.transform(main_dataset.story))\n",
    "print(\"Accuracy score for Logistic Regression for complete training dataset: \", accuracy_score(y, y_hat, normalize=True)*100)"
   ]
  },
  {
   "cell_type": "markdown",
   "metadata": {},
   "source": [
    "#### Preprocessing evaluation data same as the training data"
   ]
  },
  {
   "cell_type": "code",
   "execution_count": 69,
   "metadata": {},
   "outputs": [
    {
     "name": "stderr",
     "output_type": "stream",
     "text": [
      "3498it [00:14, 245.64it/s]\n"
     ]
    }
   ],
   "source": [
    "eval_data = pd.read_csv(\"movie_story_evaluation_file.csv\")\n",
    "test = pd.merge(eval_data, genre, left_on=\"movie_id\", right_on = \"movieId\").drop(columns=['movieId', 'title', 'movie_id'])\n",
    "\n",
    "test.genres[test.genres.str.contains(\"Drama\")] = 1\n",
    "test.genres[test.genres!=1]=0\n",
    "\n",
    "for item,text in tqdm(enumerate(test.story)):\n",
    "    \n",
    "    text = re.sub(r'\\\\x[0-9a-f]{2}', \"\", text)\n",
    "    text = text.lower()\n",
    "    text = text.replace(\"-\", \" \")\n",
    "    text = re.sub(r\"(@\\[A-Za-z0-9]+)|([^0-9A-Za-z \\t])|(\\w+:\\/\\/\\S+)|^rt|http.+?\", \"\", text)\n",
    "    tokens = word_tokenize(text)\n",
    "    tokens = [token for token in tokens if token not in stop]\n",
    "    tokens = [stemmer.stem(token) for token in tokens]\n",
    "    tokens = [token for token in tokens if token.isalpha() and len(token)>2]\n",
    "    test.story[item] =  \" \".join(word for word in tokens)\n",
    "    "
   ]
  },
  {
   "cell_type": "code",
   "execution_count": 70,
   "metadata": {},
   "outputs": [
    {
     "name": "stdout",
     "output_type": "stream",
     "text": [
      "Accuracy score for Logistic Regression for evaluation data:  71.66952544311035\n"
     ]
    }
   ],
   "source": [
    "test_X = vect_TFIDF.transform(test.story) \n",
    "\n",
    "y_pred_model1_test = model1.predict(test_X)\n",
    "y_pred_test = test.genres.astype('int')\n",
    "\n",
    "print(\"Accuracy score for Logistic Regression for evaluation data: \", accuracy_score(y_pred_test,y_pred_model1_test, normalize=True)*100)"
   ]
  },
  {
   "cell_type": "markdown",
   "metadata": {},
   "source": [
    "## Oversampling technique "
   ]
  },
  {
   "cell_type": "code",
   "execution_count": 71,
   "metadata": {},
   "outputs": [],
   "source": [
    "import joblib"
   ]
  },
  {
   "cell_type": "code",
   "execution_count": 72,
   "metadata": {},
   "outputs": [],
   "source": [
    "X_TFIDF = vect_TFIDF.transform(main_dataset.story)"
   ]
  },
  {
   "cell_type": "code",
   "execution_count": 75,
   "metadata": {},
   "outputs": [
    {
     "name": "stdout",
     "output_type": "stream",
     "text": [
      "Original dataset shape Counter({0: 11588, 1: 8412})\n",
      "Resample dataset shape Counter({0: 11588, 1: 11588})\n"
     ]
    }
   ],
   "source": [
    "# import library\n",
    "import joblib\n",
    "from imblearn.over_sampling import RandomOverSampler\n",
    "from collections import Counter\n",
    "\n",
    "ros = RandomOverSampler(random_state=42)\n",
    "\n",
    "# fit predictor and target variable\n",
    "X_ros, y_ros = ros.fit_resample(X_TFIDF, y)\n",
    "\n",
    "print('Original dataset shape', Counter(y))\n",
    "print('Resample dataset shape', Counter(y_ros))"
   ]
  },
  {
   "cell_type": "code",
   "execution_count": 76,
   "metadata": {},
   "outputs": [
    {
     "data": {
      "text/plain": [
       "((23176, 385238), (23176,))"
      ]
     },
     "execution_count": 76,
     "metadata": {},
     "output_type": "execute_result"
    }
   ],
   "source": [
    "X_ros.shape, y_ros.shape"
   ]
  },
  {
   "cell_type": "code",
   "execution_count": 77,
   "metadata": {},
   "outputs": [],
   "source": [
    "X_train_ros, X_test_ros, y_train_ros, y_test_ros = train_test_split(X_ros, y_ros, \n",
    "                                                    test_size=0.2, random_state=0, stratify=y_ros)"
   ]
  },
  {
   "cell_type": "markdown",
   "metadata": {},
   "source": [
    "#### Training and evaluating the logistic regression model(best model) with default hyperparameters"
   ]
  },
  {
   "cell_type": "code",
   "execution_count": 86,
   "metadata": {},
   "outputs": [
    {
     "name": "stdout",
     "output_type": "stream",
     "text": [
      "Accuracy score for Logistic Regression default model:  72.04486626402071\n"
     ]
    }
   ],
   "source": [
    "lr = LogisticRegression() \n",
    "\n",
    "lr.fit(X_train_ros, y_train_ros)\n",
    "y_pred_ros = lr.predict(X_test_ros)\n",
    "print(\"Accuracy score for Logistic Regression default model: \", accuracy_score(y_test_ros,y_pred_ros, normalize=True)*100)"
   ]
  },
  {
   "cell_type": "code",
   "execution_count": 87,
   "metadata": {},
   "outputs": [
    {
     "name": "stdout",
     "output_type": "stream",
     "text": [
      "Classification report of logistic regression model\n",
      "\n",
      "              precision    recall  f1-score   support\n",
      "\n",
      "           0       0.75      0.67      0.71      2318\n",
      "           1       0.70      0.77      0.73      2318\n",
      "\n",
      "    accuracy                           0.72      4636\n",
      "   macro avg       0.72      0.72      0.72      4636\n",
      "weighted avg       0.72      0.72      0.72      4636\n",
      "\n",
      "\n"
     ]
    }
   ],
   "source": [
    "# classifiaction report for the tuned paramters\n",
    "\n",
    "print('Classification report of logistic regression model')\n",
    "print('')\n",
    "print(classification_report(y_test_ros,y_pred_ros))\n",
    "print('')"
   ]
  },
  {
   "cell_type": "code",
   "execution_count": 88,
   "metadata": {},
   "outputs": [
    {
     "name": "stdout",
     "output_type": "stream",
     "text": [
      "Accuracy score for Logistic Regression for complete dataset(in-sample):  91.37038315498792\n"
     ]
    }
   ],
   "source": [
    "lr.fit(X_ros, y_ros) #fitting complete dataset\n",
    "y_ros_lr = lr.predict(X_ros)\n",
    "\n",
    "print(\"Accuracy score for Logistic Regression for complete dataset(in-sample): \", accuracy_score(y_ros, y_ros_lr, normalize=True)*100)"
   ]
  },
  {
   "cell_type": "code",
   "execution_count": 89,
   "metadata": {},
   "outputs": [
    {
     "name": "stdout",
     "output_type": "stream",
     "text": [
      "Accuracy score for Logistic Regression for evaluation data(out-of-sample):  72.15551743853631\n"
     ]
    }
   ],
   "source": [
    "y_eval_lr = lr.predict(test_X)\n",
    "print(\"Accuracy score for Logistic Regression for evaluation data(out-of-sample): \", accuracy_score(y_pred_test,y_eval_lr, normalize=True)*100)"
   ]
  },
  {
   "cell_type": "markdown",
   "metadata": {},
   "source": [
    "#### Logistic regression with hyperparameter"
   ]
  },
  {
   "cell_type": "code",
   "execution_count": 81,
   "metadata": {},
   "outputs": [
    {
     "name": "stdout",
     "output_type": "stream",
     "text": [
      "Fitting 3 folds for each of 6 candidates, totalling 18 fits\n",
      "[CV] END ............................................C=0.001; total time=   2.3s\n",
      "[CV] END ............................................C=0.001; total time=   2.2s\n",
      "[CV] END ............................................C=0.001; total time=   2.2s\n",
      "[CV] END .............................................C=0.01; total time=   2.2s\n",
      "[CV] END .............................................C=0.01; total time=   2.3s\n",
      "[CV] END .............................................C=0.01; total time=   2.3s\n",
      "[CV] END ..............................................C=0.1; total time=   3.6s\n",
      "[CV] END ..............................................C=0.1; total time=   3.6s\n",
      "[CV] END ..............................................C=0.1; total time=   3.4s\n",
      "[CV] END ..............................................C=1.0; total time=   7.7s\n",
      "[CV] END ..............................................C=1.0; total time=   6.8s\n",
      "[CV] END ..............................................C=1.0; total time=   8.1s\n",
      "[CV] END ...............................................C=10; total time=  15.8s\n",
      "[CV] END ...............................................C=10; total time=  18.9s\n",
      "[CV] END ...............................................C=10; total time=  14.1s\n",
      "[CV] END ..............................................C=100; total time=  33.5s\n",
      "[CV] END ..............................................C=100; total time=  35.1s\n",
      "[CV] END ..............................................C=100; total time=  30.5s\n",
      "Best parameters for Logistic Regression:  {'C': 10}\n",
      "Best Cross-validation score for Logistic Regression:  0.7365156418554477\n"
     ]
    }
   ],
   "source": [
    "params = {'C': [0.001, 0.01, 0.1, 1.0,10,100]}\n",
    "\n",
    "model1_ros = GridSearchCV(estimator = LogisticRegression(max_iter=300),\n",
    "                           param_grid = params,\n",
    "                           cv=cv, scoring='accuracy',\n",
    "                           verbose=2, return_train_score=True)\n",
    "\n",
    "model1_ros.fit(X_train_ros, y_train_ros)\n",
    "\n",
    "print(\"Best parameters for Logistic Regression: \", model1_ros.best_params_)\n",
    "print(\"Best Cross-validation score for Logistic Regression: \", model1_ros.best_score_)"
   ]
  },
  {
   "cell_type": "code",
   "execution_count": 82,
   "metadata": {},
   "outputs": [
    {
     "name": "stdout",
     "output_type": "stream",
     "text": [
      "Accuracy score for Logistic Regression with tuned hyper-parameters:  74.87057808455565\n"
     ]
    }
   ],
   "source": [
    "model_ros = model1_ros.best_estimator_\n",
    "y_pred_model1_ros = model_ros.predict(X_test_ros)\n",
    "\n",
    "print(\"Accuracy score for Logistic Regression with tuned hyper-parameters: \", accuracy_score(y_test_ros,y_pred_model1_ros, normalize=True)*100)"
   ]
  },
  {
   "cell_type": "code",
   "execution_count": 83,
   "metadata": {},
   "outputs": [
    {
     "name": "stdout",
     "output_type": "stream",
     "text": [
      "Logistic Regression accounting with tuned hyper-parameters and oversampling\n",
      "\n",
      "              precision    recall  f1-score   support\n",
      "\n",
      "           0       0.78      0.69      0.73      2318\n",
      "           1       0.72      0.81      0.76      2318\n",
      "\n",
      "    accuracy                           0.75      4636\n",
      "   macro avg       0.75      0.75      0.75      4636\n",
      "weighted avg       0.75      0.75      0.75      4636\n",
      "\n",
      "\n"
     ]
    }
   ],
   "source": [
    "# classifiaction report for the tuned paramters\n",
    "\n",
    "print('Logistic Regression accounting with tuned hyper-parameters and oversampling')\n",
    "print('')\n",
    "print(classification_report(y_test_ros,y_pred_model1_ros))\n",
    "print('')"
   ]
  },
  {
   "cell_type": "code",
   "execution_count": 84,
   "metadata": {},
   "outputs": [
    {
     "name": "stdout",
     "output_type": "stream",
     "text": [
      "Accuracy score for Logistic Regression for complete dataset(in-sample):  99.8619261304798\n"
     ]
    }
   ],
   "source": [
    "#fitting complete dataset\n",
    "model_ros.fit(X_ros, y_ros) \n",
    "y_ros_all = model_ros.predict(X_ros)\n",
    "print(\"Accuracy score for Logistic Regression for complete dataset(in-sample): \", accuracy_score(y_ros, y_ros_all, normalize=True)*100)"
   ]
  },
  {
   "cell_type": "code",
   "execution_count": 85,
   "metadata": {},
   "outputs": [
    {
     "name": "stdout",
     "output_type": "stream",
     "text": [
      "Accuracy score for Logistic Regression for evaluation data(out-of-sample):  70.7833047455689\n"
     ]
    }
   ],
   "source": [
    "#predict the eval data based on fitted model for whole data\n",
    "y_eval = model_ros.predict(test_X)\n",
    "\n",
    "print(\"Accuracy score for Logistic Regression for evaluation data(out-of-sample): \", accuracy_score(y_pred_test,y_eval, normalize=True)*100)"
   ]
  },
  {
   "cell_type": "markdown",
   "metadata": {},
   "source": [
    "# Conclusion:"
   ]
  },
  {
   "cell_type": "markdown",
   "metadata": {},
   "source": [
    "In Conclusion, using TF-IDF and random oversampling technique as the pre-processing methods we received a 72.16% accuracy score for the evaluation data."
   ]
  }
 ],
 "metadata": {
  "kernelspec": {
   "display_name": "Python 3 (ipykernel)",
   "language": "python",
   "name": "python3"
  },
  "language_info": {
   "codemirror_mode": {
    "name": "ipython",
    "version": 3
   },
   "file_extension": ".py",
   "mimetype": "text/x-python",
   "name": "python",
   "nbconvert_exporter": "python",
   "pygments_lexer": "ipython3",
   "version": "3.8.8"
  }
 },
 "nbformat": 4,
 "nbformat_minor": 4
}
